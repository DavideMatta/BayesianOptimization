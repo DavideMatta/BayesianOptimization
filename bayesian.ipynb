{
  "nbformat": 4,
  "nbformat_minor": 0,
  "metadata": {
    "colab": {
      "provenance": [],
      "gpuType": "T4"
    },
    "kernelspec": {
      "name": "python3",
      "display_name": "Python 3"
    },
    "language_info": {
      "name": "python"
    },
    "accelerator": "GPU"
  },
  "cells": [
    {
      "cell_type": "code",
      "source": [
        "from sklearn.datasets import make_classification\n",
        "from sklearn.model_selection import train_test_split, GridSearchCV, RandomizedSearchCV, cross_val_score\n",
        "from sklearn.ensemble import RandomForestClassifier\n",
        "from sklearn.metrics import accuracy_score\n",
        "from sklearn.preprocessing import StandardScaler\n",
        "from sklearn.linear_model import RidgeClassifier\n",
        "from sklearn.base import BaseEstimator\n",
        "from sklearn.utils.validation import check_X_y, check_array, check_is_fitted\n",
        "import numpy as np\n",
        "import pandas as pd\n",
        "import xgboost as xgb\n",
        "from hyperopt import hp, tpe, fmin, Trials, space_eval\n",
        "import torch\n",
        "import torch.nn as nn\n",
        "import torch.optim as optim\n",
        "from torch.utils.data import DataLoader, TensorDataset\n",
        "!pip install optuna\n",
        "import optuna"
      ],
      "metadata": {
        "id": "PC-jC9Vn4AYJ",
        "colab": {
          "base_uri": "https://localhost:8080/"
        },
        "outputId": "29368619-0bbb-458b-f48d-19210a0f58aa"
      },
      "execution_count": null,
      "outputs": [
        {
          "output_type": "stream",
          "name": "stdout",
          "text": [
            "Collecting optuna\n",
            "  Downloading optuna-3.6.1-py3-none-any.whl (380 kB)\n",
            "\u001b[2K     \u001b[90m━━━━━━━━━━━━━━━━━━━━━━━━━━━━━━━━━━━━━━━━\u001b[0m \u001b[32m380.1/380.1 kB\u001b[0m \u001b[31m5.8 MB/s\u001b[0m eta \u001b[36m0:00:00\u001b[0m\n",
            "\u001b[?25hCollecting alembic>=1.5.0 (from optuna)\n",
            "  Downloading alembic-1.13.1-py3-none-any.whl (233 kB)\n",
            "\u001b[2K     \u001b[90m━━━━━━━━━━━━━━━━━━━━━━━━━━━━━━━━━━━━━━━━\u001b[0m \u001b[32m233.4/233.4 kB\u001b[0m \u001b[31m19.0 MB/s\u001b[0m eta \u001b[36m0:00:00\u001b[0m\n",
            "\u001b[?25hCollecting colorlog (from optuna)\n",
            "  Downloading colorlog-6.8.2-py3-none-any.whl (11 kB)\n",
            "Requirement already satisfied: numpy in /usr/local/lib/python3.10/dist-packages (from optuna) (1.25.2)\n",
            "Requirement already satisfied: packaging>=20.0 in /usr/local/lib/python3.10/dist-packages (from optuna) (24.0)\n",
            "Requirement already satisfied: sqlalchemy>=1.3.0 in /usr/local/lib/python3.10/dist-packages (from optuna) (2.0.29)\n",
            "Requirement already satisfied: tqdm in /usr/local/lib/python3.10/dist-packages (from optuna) (4.66.2)\n",
            "Requirement already satisfied: PyYAML in /usr/local/lib/python3.10/dist-packages (from optuna) (6.0.1)\n",
            "Collecting Mako (from alembic>=1.5.0->optuna)\n",
            "  Downloading Mako-1.3.3-py3-none-any.whl (78 kB)\n",
            "\u001b[2K     \u001b[90m━━━━━━━━━━━━━━━━━━━━━━━━━━━━━━━━━━━━━━━━\u001b[0m \u001b[32m78.8/78.8 kB\u001b[0m \u001b[31m10.3 MB/s\u001b[0m eta \u001b[36m0:00:00\u001b[0m\n",
            "\u001b[?25hRequirement already satisfied: typing-extensions>=4 in /usr/local/lib/python3.10/dist-packages (from alembic>=1.5.0->optuna) (4.11.0)\n",
            "Requirement already satisfied: greenlet!=0.4.17 in /usr/local/lib/python3.10/dist-packages (from sqlalchemy>=1.3.0->optuna) (3.0.3)\n",
            "Requirement already satisfied: MarkupSafe>=0.9.2 in /usr/local/lib/python3.10/dist-packages (from Mako->alembic>=1.5.0->optuna) (2.1.5)\n",
            "Installing collected packages: Mako, colorlog, alembic, optuna\n",
            "Successfully installed Mako-1.3.3 alembic-1.13.1 colorlog-6.8.2 optuna-3.6.1\n"
          ]
        }
      ]
    },
    {
      "cell_type": "markdown",
      "source": [
        "GENERATE DATASET"
      ],
      "metadata": {
        "id": "8QVAO-XDwHDH"
      }
    },
    {
      "cell_type": "code",
      "source": [
        "n_samples=10000\n",
        "n_features=20\n",
        "n_informative=10\n",
        "n_redundant=5\n",
        "n_clusters_per_class=2\n",
        "weights=[0.7]\n",
        "class_sep=0.8\n",
        "random_state=61"
      ],
      "metadata": {
        "id": "e4A7D3dcwBDP"
      },
      "execution_count": null,
      "outputs": []
    },
    {
      "cell_type": "code",
      "source": [
        "X, y = make_classification(n_samples=n_samples, n_features=n_features, n_informative=n_informative,\n",
        "                           n_redundant=n_redundant, n_clusters_per_class=n_clusters_per_class,\n",
        "                           weights=weights, class_sep=class_sep, random_state=random_state)"
      ],
      "metadata": {
        "id": "Bt56MyAXwBG2"
      },
      "execution_count": null,
      "outputs": []
    },
    {
      "cell_type": "code",
      "source": [
        "X += np.random.normal(0, 0.5, X.shape)"
      ],
      "metadata": {
        "id": "kCLyMpVkwBKg"
      },
      "execution_count": null,
      "outputs": []
    },
    {
      "cell_type": "code",
      "source": [
        "X_train, X_test, y_train, y_test = train_test_split(X, y, test_size=0.2, random_state=random_state)"
      ],
      "metadata": {
        "id": "CIu_7DVLwBN5"
      },
      "execution_count": null,
      "outputs": []
    },
    {
      "cell_type": "markdown",
      "source": [
        "XGBOOST"
      ],
      "metadata": {
        "id": "GahezGMY3ZeO"
      }
    },
    {
      "cell_type": "code",
      "source": [
        "# XGBoost classifier\n",
        "xgb_classifier = xgb.XGBClassifier(tree_method=\"hist\", device=\"cuda\", max_bin=64, nthread=2, random_state=random_state)"
      ],
      "metadata": {
        "id": "9eGr9DOW3rWw"
      },
      "execution_count": null,
      "outputs": []
    },
    {
      "cell_type": "code",
      "source": [
        "# Hyperparameter grid for grid search and random search\n",
        "param_grid_xgb = {\n",
        "    'n_estimators': [100, 200, 300, 400, 500],\n",
        "    'max_depth': [3, 6, 9, 12, 15],\n",
        "    'learning_rate': [0.1, 0.01, 0.001, 0.0001]\n",
        "}\n",
        "\n",
        "# Search space for Bayesian optimization\n",
        "space_xgb = {\n",
        "    'n_estimators': hp.randint('n_estimators', 50, 500),\n",
        "    'max_depth': hp.randint('max_depth', 2, 15),\n",
        "    'learning_rate': hp.loguniform('learning_rate', np.log(0.0001), np.log(0.1))\n",
        "}\n",
        "\n",
        "\n",
        "# Define the objective function to minimize\n",
        "def objective_xgb(params):\n",
        "    params['tree_method'] = 'hist'\n",
        "    params['device'] = 'cuda'\n",
        "    model = xgb.XGBClassifier(**params, random_state=random_state)\n",
        "    score = cross_val_score(model, X_train, y_train, cv=5, scoring='accuracy').mean()\n",
        "    return -score  # Minimize negative accuracy\n"
      ],
      "metadata": {
        "id": "FlTR3Z4U3wWR"
      },
      "execution_count": null,
      "outputs": []
    },
    {
      "cell_type": "code",
      "source": [
        "# Grid search\n",
        "%%time\n",
        "grid_search_xgb = GridSearchCV(xgb_classifier, param_grid_xgb, cv=5, scoring='accuracy', verbose=2)\n",
        "grid_search_xgb.fit(X_train, y_train)"
      ],
      "metadata": {
        "colab": {
          "base_uri": "https://localhost:8080/",
          "height": 1000
        },
        "id": "0NUDvLFWR04I",
        "outputId": "361e40e2-a4cc-4d0f-bb3e-b4874b8c11cf"
      },
      "execution_count": null,
      "outputs": [
        {
          "output_type": "stream",
          "name": "stdout",
          "text": [
            "Fitting 5 folds for each of 100 candidates, totalling 500 fits\n"
          ]
        },
        {
          "output_type": "stream",
          "name": "stderr",
          "text": [
            "/usr/local/lib/python3.10/dist-packages/xgboost/core.py:160: UserWarning: [16:26:07] WARNING: /workspace/src/common/error_msg.cc:58: Falling back to prediction using DMatrix due to mismatched devices. This might lead to higher memory usage and slower performance. XGBoost is running on: cuda:0, while the input data is on: cpu.\n",
            "Potential solutions:\n",
            "- Use a data structure that matches the device ordinal in the booster.\n",
            "- Set the device for booster before call to inplace_predict.\n",
            "\n",
            "This warning will only be shown once.\n",
            "\n",
            "  warnings.warn(smsg, UserWarning)\n"
          ]
        },
        {
          "output_type": "stream",
          "name": "stdout",
          "text": [
            "[CV] END ...learning_rate=0.1, max_depth=3, n_estimators=100; total time=   0.5s\n",
            "[CV] END ...learning_rate=0.1, max_depth=3, n_estimators=100; total time=   0.2s\n",
            "[CV] END ...learning_rate=0.1, max_depth=3, n_estimators=100; total time=   0.1s\n",
            "[CV] END ...learning_rate=0.1, max_depth=3, n_estimators=100; total time=   0.1s\n",
            "[CV] END ...learning_rate=0.1, max_depth=3, n_estimators=100; total time=   0.1s\n",
            "[CV] END ...learning_rate=0.1, max_depth=3, n_estimators=200; total time=   0.2s\n",
            "[CV] END ...learning_rate=0.1, max_depth=3, n_estimators=200; total time=   0.2s\n",
            "[CV] END ...learning_rate=0.1, max_depth=3, n_estimators=200; total time=   0.2s\n",
            "[CV] END ...learning_rate=0.1, max_depth=3, n_estimators=200; total time=   0.2s\n",
            "[CV] END ...learning_rate=0.1, max_depth=3, n_estimators=200; total time=   0.2s\n",
            "[CV] END ...learning_rate=0.1, max_depth=3, n_estimators=300; total time=   0.3s\n",
            "[CV] END ...learning_rate=0.1, max_depth=3, n_estimators=300; total time=   0.3s\n",
            "[CV] END ...learning_rate=0.1, max_depth=3, n_estimators=300; total time=   0.3s\n",
            "[CV] END ...learning_rate=0.1, max_depth=3, n_estimators=300; total time=   0.3s\n",
            "[CV] END ...learning_rate=0.1, max_depth=3, n_estimators=300; total time=   0.3s\n",
            "[CV] END ...learning_rate=0.1, max_depth=3, n_estimators=400; total time=   0.4s\n",
            "[CV] END ...learning_rate=0.1, max_depth=3, n_estimators=400; total time=   0.4s\n",
            "[CV] END ...learning_rate=0.1, max_depth=3, n_estimators=400; total time=   0.4s\n",
            "[CV] END ...learning_rate=0.1, max_depth=3, n_estimators=400; total time=   0.4s\n",
            "[CV] END ...learning_rate=0.1, max_depth=3, n_estimators=400; total time=   0.4s\n",
            "[CV] END ...learning_rate=0.1, max_depth=3, n_estimators=500; total time=   0.6s\n",
            "[CV] END ...learning_rate=0.1, max_depth=3, n_estimators=500; total time=   0.8s\n",
            "[CV] END ...learning_rate=0.1, max_depth=3, n_estimators=500; total time=   0.7s\n",
            "[CV] END ...learning_rate=0.1, max_depth=3, n_estimators=500; total time=   0.7s\n",
            "[CV] END ...learning_rate=0.1, max_depth=3, n_estimators=500; total time=   0.7s\n",
            "[CV] END ...learning_rate=0.1, max_depth=6, n_estimators=100; total time=   0.3s\n",
            "[CV] END ...learning_rate=0.1, max_depth=6, n_estimators=100; total time=   0.2s\n",
            "[CV] END ...learning_rate=0.1, max_depth=6, n_estimators=100; total time=   0.2s\n",
            "[CV] END ...learning_rate=0.1, max_depth=6, n_estimators=100; total time=   0.2s\n",
            "[CV] END ...learning_rate=0.1, max_depth=6, n_estimators=100; total time=   0.2s\n",
            "[CV] END ...learning_rate=0.1, max_depth=6, n_estimators=200; total time=   0.3s\n",
            "[CV] END ...learning_rate=0.1, max_depth=6, n_estimators=200; total time=   0.3s\n",
            "[CV] END ...learning_rate=0.1, max_depth=6, n_estimators=200; total time=   0.3s\n",
            "[CV] END ...learning_rate=0.1, max_depth=6, n_estimators=200; total time=   0.3s\n",
            "[CV] END ...learning_rate=0.1, max_depth=6, n_estimators=200; total time=   0.3s\n",
            "[CV] END ...learning_rate=0.1, max_depth=6, n_estimators=300; total time=   0.5s\n",
            "[CV] END ...learning_rate=0.1, max_depth=6, n_estimators=300; total time=   0.5s\n",
            "[CV] END ...learning_rate=0.1, max_depth=6, n_estimators=300; total time=   0.5s\n",
            "[CV] END ...learning_rate=0.1, max_depth=6, n_estimators=300; total time=   0.6s\n",
            "[CV] END ...learning_rate=0.1, max_depth=6, n_estimators=300; total time=   0.5s\n",
            "[CV] END ...learning_rate=0.1, max_depth=6, n_estimators=400; total time=   0.6s\n",
            "[CV] END ...learning_rate=0.1, max_depth=6, n_estimators=400; total time=   0.6s\n",
            "[CV] END ...learning_rate=0.1, max_depth=6, n_estimators=400; total time=   0.6s\n",
            "[CV] END ...learning_rate=0.1, max_depth=6, n_estimators=400; total time=   0.6s\n",
            "[CV] END ...learning_rate=0.1, max_depth=6, n_estimators=400; total time=   0.6s\n",
            "[CV] END ...learning_rate=0.1, max_depth=6, n_estimators=500; total time=   0.8s\n",
            "[CV] END ...learning_rate=0.1, max_depth=6, n_estimators=500; total time=   0.9s\n",
            "[CV] END ...learning_rate=0.1, max_depth=6, n_estimators=500; total time=   1.0s\n",
            "[CV] END ...learning_rate=0.1, max_depth=6, n_estimators=500; total time=   0.9s\n",
            "[CV] END ...learning_rate=0.1, max_depth=6, n_estimators=500; total time=   0.7s\n",
            "[CV] END ...learning_rate=0.1, max_depth=9, n_estimators=100; total time=   0.3s\n",
            "[CV] END ...learning_rate=0.1, max_depth=9, n_estimators=100; total time=   0.3s\n",
            "[CV] END ...learning_rate=0.1, max_depth=9, n_estimators=100; total time=   0.3s\n",
            "[CV] END ...learning_rate=0.1, max_depth=9, n_estimators=100; total time=   0.3s\n",
            "[CV] END ...learning_rate=0.1, max_depth=9, n_estimators=100; total time=   0.3s\n",
            "[CV] END ...learning_rate=0.1, max_depth=9, n_estimators=200; total time=   0.5s\n",
            "[CV] END ...learning_rate=0.1, max_depth=9, n_estimators=200; total time=   0.5s\n",
            "[CV] END ...learning_rate=0.1, max_depth=9, n_estimators=200; total time=   0.5s\n",
            "[CV] END ...learning_rate=0.1, max_depth=9, n_estimators=200; total time=   0.5s\n",
            "[CV] END ...learning_rate=0.1, max_depth=9, n_estimators=200; total time=   0.5s\n",
            "[CV] END ...learning_rate=0.1, max_depth=9, n_estimators=300; total time=   0.7s\n",
            "[CV] END ...learning_rate=0.1, max_depth=9, n_estimators=300; total time=   0.7s\n",
            "[CV] END ...learning_rate=0.1, max_depth=9, n_estimators=300; total time=   0.7s\n",
            "[CV] END ...learning_rate=0.1, max_depth=9, n_estimators=300; total time=   0.7s\n",
            "[CV] END ...learning_rate=0.1, max_depth=9, n_estimators=300; total time=   0.7s\n",
            "[CV] END ...learning_rate=0.1, max_depth=9, n_estimators=400; total time=   0.9s\n",
            "[CV] END ...learning_rate=0.1, max_depth=9, n_estimators=400; total time=   0.9s\n",
            "[CV] END ...learning_rate=0.1, max_depth=9, n_estimators=400; total time=   1.7s\n",
            "[CV] END ...learning_rate=0.1, max_depth=9, n_estimators=400; total time=   1.5s\n",
            "[CV] END ...learning_rate=0.1, max_depth=9, n_estimators=400; total time=   1.3s\n",
            "[CV] END ...learning_rate=0.1, max_depth=9, n_estimators=500; total time=   1.0s\n",
            "[CV] END ...learning_rate=0.1, max_depth=9, n_estimators=500; total time=   1.0s\n",
            "[CV] END ...learning_rate=0.1, max_depth=9, n_estimators=500; total time=   1.0s\n",
            "[CV] END ...learning_rate=0.1, max_depth=9, n_estimators=500; total time=   1.0s\n",
            "[CV] END ...learning_rate=0.1, max_depth=9, n_estimators=500; total time=   1.0s\n",
            "[CV] END ..learning_rate=0.1, max_depth=12, n_estimators=100; total time=   0.4s\n",
            "[CV] END ..learning_rate=0.1, max_depth=12, n_estimators=100; total time=   0.4s\n",
            "[CV] END ..learning_rate=0.1, max_depth=12, n_estimators=100; total time=   0.4s\n",
            "[CV] END ..learning_rate=0.1, max_depth=12, n_estimators=100; total time=   0.4s\n",
            "[CV] END ..learning_rate=0.1, max_depth=12, n_estimators=100; total time=   0.4s\n",
            "[CV] END ..learning_rate=0.1, max_depth=12, n_estimators=200; total time=   0.6s\n",
            "[CV] END ..learning_rate=0.1, max_depth=12, n_estimators=200; total time=   0.8s\n",
            "[CV] END ..learning_rate=0.1, max_depth=12, n_estimators=200; total time=   1.0s\n",
            "[CV] END ..learning_rate=0.1, max_depth=12, n_estimators=200; total time=   0.6s\n",
            "[CV] END ..learning_rate=0.1, max_depth=12, n_estimators=200; total time=   0.6s\n",
            "[CV] END ..learning_rate=0.1, max_depth=12, n_estimators=300; total time=   0.8s\n",
            "[CV] END ..learning_rate=0.1, max_depth=12, n_estimators=300; total time=   0.8s\n",
            "[CV] END ..learning_rate=0.1, max_depth=12, n_estimators=300; total time=   0.8s\n",
            "[CV] END ..learning_rate=0.1, max_depth=12, n_estimators=300; total time=   0.8s\n",
            "[CV] END ..learning_rate=0.1, max_depth=12, n_estimators=300; total time=   0.8s\n",
            "[CV] END ..learning_rate=0.1, max_depth=12, n_estimators=400; total time=   1.0s\n",
            "[CV] END ..learning_rate=0.1, max_depth=12, n_estimators=400; total time=   0.9s\n",
            "[CV] END ..learning_rate=0.1, max_depth=12, n_estimators=400; total time=   0.9s\n",
            "[CV] END ..learning_rate=0.1, max_depth=12, n_estimators=400; total time=   1.0s\n",
            "[CV] END ..learning_rate=0.1, max_depth=12, n_estimators=400; total time=   0.9s\n",
            "[CV] END ..learning_rate=0.1, max_depth=12, n_estimators=500; total time=   1.3s\n",
            "[CV] END ..learning_rate=0.1, max_depth=12, n_estimators=500; total time=   1.3s\n",
            "[CV] END ..learning_rate=0.1, max_depth=12, n_estimators=500; total time=   1.1s\n",
            "[CV] END ..learning_rate=0.1, max_depth=12, n_estimators=500; total time=   1.1s\n",
            "[CV] END ..learning_rate=0.1, max_depth=12, n_estimators=500; total time=   1.1s\n",
            "[CV] END ..learning_rate=0.1, max_depth=15, n_estimators=100; total time=   0.4s\n",
            "[CV] END ..learning_rate=0.1, max_depth=15, n_estimators=100; total time=   0.4s\n",
            "[CV] END ..learning_rate=0.1, max_depth=15, n_estimators=100; total time=   0.4s\n",
            "[CV] END ..learning_rate=0.1, max_depth=15, n_estimators=100; total time=   0.4s\n",
            "[CV] END ..learning_rate=0.1, max_depth=15, n_estimators=100; total time=   0.4s\n",
            "[CV] END ..learning_rate=0.1, max_depth=15, n_estimators=200; total time=   0.6s\n",
            "[CV] END ..learning_rate=0.1, max_depth=15, n_estimators=200; total time=   0.6s\n",
            "[CV] END ..learning_rate=0.1, max_depth=15, n_estimators=200; total time=   0.6s\n",
            "[CV] END ..learning_rate=0.1, max_depth=15, n_estimators=200; total time=   0.6s\n",
            "[CV] END ..learning_rate=0.1, max_depth=15, n_estimators=200; total time=   0.6s\n",
            "[CV] END ..learning_rate=0.1, max_depth=15, n_estimators=300; total time=   0.8s\n",
            "[CV] END ..learning_rate=0.1, max_depth=15, n_estimators=300; total time=   1.0s\n",
            "[CV] END ..learning_rate=0.1, max_depth=15, n_estimators=300; total time=   1.0s\n",
            "[CV] END ..learning_rate=0.1, max_depth=15, n_estimators=300; total time=   0.9s\n",
            "[CV] END ..learning_rate=0.1, max_depth=15, n_estimators=300; total time=   0.8s\n",
            "[CV] END ..learning_rate=0.1, max_depth=15, n_estimators=400; total time=   1.0s\n",
            "[CV] END ..learning_rate=0.1, max_depth=15, n_estimators=400; total time=   1.0s\n",
            "[CV] END ..learning_rate=0.1, max_depth=15, n_estimators=400; total time=   1.0s\n",
            "[CV] END ..learning_rate=0.1, max_depth=15, n_estimators=400; total time=   1.0s\n",
            "[CV] END ..learning_rate=0.1, max_depth=15, n_estimators=400; total time=   1.0s\n",
            "[CV] END ..learning_rate=0.1, max_depth=15, n_estimators=500; total time=   1.1s\n",
            "[CV] END ..learning_rate=0.1, max_depth=15, n_estimators=500; total time=   1.2s\n",
            "[CV] END ..learning_rate=0.1, max_depth=15, n_estimators=500; total time=   1.1s\n",
            "[CV] END ..learning_rate=0.1, max_depth=15, n_estimators=500; total time=   1.2s\n",
            "[CV] END ..learning_rate=0.1, max_depth=15, n_estimators=500; total time=   1.4s\n",
            "[CV] END ..learning_rate=0.01, max_depth=3, n_estimators=100; total time=   0.1s\n",
            "[CV] END ..learning_rate=0.01, max_depth=3, n_estimators=100; total time=   0.1s\n",
            "[CV] END ..learning_rate=0.01, max_depth=3, n_estimators=100; total time=   0.1s\n",
            "[CV] END ..learning_rate=0.01, max_depth=3, n_estimators=100; total time=   0.1s\n",
            "[CV] END ..learning_rate=0.01, max_depth=3, n_estimators=100; total time=   0.1s\n",
            "[CV] END ..learning_rate=0.01, max_depth=3, n_estimators=200; total time=   0.2s\n",
            "[CV] END ..learning_rate=0.01, max_depth=3, n_estimators=200; total time=   0.2s\n",
            "[CV] END ..learning_rate=0.01, max_depth=3, n_estimators=200; total time=   0.2s\n",
            "[CV] END ..learning_rate=0.01, max_depth=3, n_estimators=200; total time=   0.2s\n",
            "[CV] END ..learning_rate=0.01, max_depth=3, n_estimators=200; total time=   0.2s\n",
            "[CV] END ..learning_rate=0.01, max_depth=3, n_estimators=300; total time=   0.3s\n",
            "[CV] END ..learning_rate=0.01, max_depth=3, n_estimators=300; total time=   0.3s\n",
            "[CV] END ..learning_rate=0.01, max_depth=3, n_estimators=300; total time=   0.3s\n",
            "[CV] END ..learning_rate=0.01, max_depth=3, n_estimators=300; total time=   0.3s\n",
            "[CV] END ..learning_rate=0.01, max_depth=3, n_estimators=300; total time=   0.3s\n",
            "[CV] END ..learning_rate=0.01, max_depth=3, n_estimators=400; total time=   0.3s\n",
            "[CV] END ..learning_rate=0.01, max_depth=3, n_estimators=400; total time=   0.4s\n",
            "[CV] END ..learning_rate=0.01, max_depth=3, n_estimators=400; total time=   0.3s\n",
            "[CV] END ..learning_rate=0.01, max_depth=3, n_estimators=400; total time=   0.4s\n",
            "[CV] END ..learning_rate=0.01, max_depth=3, n_estimators=400; total time=   0.4s\n",
            "[CV] END ..learning_rate=0.01, max_depth=3, n_estimators=500; total time=   0.4s\n",
            "[CV] END ..learning_rate=0.01, max_depth=3, n_estimators=500; total time=   0.4s\n",
            "[CV] END ..learning_rate=0.01, max_depth=3, n_estimators=500; total time=   0.4s\n",
            "[CV] END ..learning_rate=0.01, max_depth=3, n_estimators=500; total time=   0.4s\n",
            "[CV] END ..learning_rate=0.01, max_depth=3, n_estimators=500; total time=   0.4s\n",
            "[CV] END ..learning_rate=0.01, max_depth=6, n_estimators=100; total time=   0.2s\n",
            "[CV] END ..learning_rate=0.01, max_depth=6, n_estimators=100; total time=   0.2s\n",
            "[CV] END ..learning_rate=0.01, max_depth=6, n_estimators=100; total time=   0.2s\n",
            "[CV] END ..learning_rate=0.01, max_depth=6, n_estimators=100; total time=   0.2s\n",
            "[CV] END ..learning_rate=0.01, max_depth=6, n_estimators=100; total time=   0.2s\n",
            "[CV] END ..learning_rate=0.01, max_depth=6, n_estimators=200; total time=   0.4s\n",
            "[CV] END ..learning_rate=0.01, max_depth=6, n_estimators=200; total time=   0.4s\n",
            "[CV] END ..learning_rate=0.01, max_depth=6, n_estimators=200; total time=   0.4s\n",
            "[CV] END ..learning_rate=0.01, max_depth=6, n_estimators=200; total time=   0.4s\n",
            "[CV] END ..learning_rate=0.01, max_depth=6, n_estimators=200; total time=   0.4s\n",
            "[CV] END ..learning_rate=0.01, max_depth=6, n_estimators=300; total time=   0.7s\n",
            "[CV] END ..learning_rate=0.01, max_depth=6, n_estimators=300; total time=   0.8s\n",
            "[CV] END ..learning_rate=0.01, max_depth=6, n_estimators=300; total time=   0.7s\n",
            "[CV] END ..learning_rate=0.01, max_depth=6, n_estimators=300; total time=   0.6s\n",
            "[CV] END ..learning_rate=0.01, max_depth=6, n_estimators=300; total time=   0.5s\n",
            "[CV] END ..learning_rate=0.01, max_depth=6, n_estimators=400; total time=   0.7s\n",
            "[CV] END ..learning_rate=0.01, max_depth=6, n_estimators=400; total time=   0.7s\n",
            "[CV] END ..learning_rate=0.01, max_depth=6, n_estimators=400; total time=   0.7s\n",
            "[CV] END ..learning_rate=0.01, max_depth=6, n_estimators=400; total time=   0.7s\n",
            "[CV] END ..learning_rate=0.01, max_depth=6, n_estimators=400; total time=   0.7s\n",
            "[CV] END ..learning_rate=0.01, max_depth=6, n_estimators=500; total time=   0.9s\n",
            "[CV] END ..learning_rate=0.01, max_depth=6, n_estimators=500; total time=   0.8s\n",
            "[CV] END ..learning_rate=0.01, max_depth=6, n_estimators=500; total time=   0.9s\n",
            "[CV] END ..learning_rate=0.01, max_depth=6, n_estimators=500; total time=   0.8s\n",
            "[CV] END ..learning_rate=0.01, max_depth=6, n_estimators=500; total time=   0.9s\n",
            "[CV] END ..learning_rate=0.01, max_depth=9, n_estimators=100; total time=   0.4s\n",
            "[CV] END ..learning_rate=0.01, max_depth=9, n_estimators=100; total time=   0.4s\n",
            "[CV] END ..learning_rate=0.01, max_depth=9, n_estimators=100; total time=   0.4s\n",
            "[CV] END ..learning_rate=0.01, max_depth=9, n_estimators=100; total time=   0.5s\n",
            "[CV] END ..learning_rate=0.01, max_depth=9, n_estimators=100; total time=   0.7s\n",
            "[CV] END ..learning_rate=0.01, max_depth=9, n_estimators=200; total time=   0.9s\n",
            "[CV] END ..learning_rate=0.01, max_depth=9, n_estimators=200; total time=   0.7s\n",
            "[CV] END ..learning_rate=0.01, max_depth=9, n_estimators=200; total time=   0.7s\n",
            "[CV] END ..learning_rate=0.01, max_depth=9, n_estimators=200; total time=   0.7s\n",
            "[CV] END ..learning_rate=0.01, max_depth=9, n_estimators=200; total time=   0.7s\n",
            "[CV] END ..learning_rate=0.01, max_depth=9, n_estimators=300; total time=   1.5s\n",
            "[CV] END ..learning_rate=0.01, max_depth=9, n_estimators=300; total time=   1.6s\n",
            "[CV] END ..learning_rate=0.01, max_depth=9, n_estimators=300; total time=   1.7s\n",
            "[CV] END ..learning_rate=0.01, max_depth=9, n_estimators=300; total time=   1.3s\n",
            "[CV] END ..learning_rate=0.01, max_depth=9, n_estimators=300; total time=   1.7s\n",
            "[CV] END ..learning_rate=0.01, max_depth=9, n_estimators=400; total time=   1.6s\n",
            "[CV] END ..learning_rate=0.01, max_depth=9, n_estimators=400; total time=   1.3s\n",
            "[CV] END ..learning_rate=0.01, max_depth=9, n_estimators=400; total time=   1.3s\n",
            "[CV] END ..learning_rate=0.01, max_depth=9, n_estimators=400; total time=   1.3s\n",
            "[CV] END ..learning_rate=0.01, max_depth=9, n_estimators=400; total time=   1.3s\n",
            "[CV] END ..learning_rate=0.01, max_depth=9, n_estimators=500; total time=   1.6s\n",
            "[CV] END ..learning_rate=0.01, max_depth=9, n_estimators=500; total time=   1.5s\n",
            "[CV] END ..learning_rate=0.01, max_depth=9, n_estimators=500; total time=   1.6s\n",
            "[CV] END ..learning_rate=0.01, max_depth=9, n_estimators=500; total time=   1.9s\n",
            "[CV] END ..learning_rate=0.01, max_depth=9, n_estimators=500; total time=   1.6s\n",
            "[CV] END .learning_rate=0.01, max_depth=12, n_estimators=100; total time=   0.5s\n",
            "[CV] END .learning_rate=0.01, max_depth=12, n_estimators=100; total time=   0.5s\n",
            "[CV] END .learning_rate=0.01, max_depth=12, n_estimators=100; total time=   0.5s\n",
            "[CV] END .learning_rate=0.01, max_depth=12, n_estimators=100; total time=   0.5s\n",
            "[CV] END .learning_rate=0.01, max_depth=12, n_estimators=100; total time=   0.5s\n",
            "[CV] END .learning_rate=0.01, max_depth=12, n_estimators=200; total time=   1.0s\n",
            "[CV] END .learning_rate=0.01, max_depth=12, n_estimators=200; total time=   1.0s\n",
            "[CV] END .learning_rate=0.01, max_depth=12, n_estimators=200; total time=   1.0s\n",
            "[CV] END .learning_rate=0.01, max_depth=12, n_estimators=200; total time=   1.0s\n",
            "[CV] END .learning_rate=0.01, max_depth=12, n_estimators=200; total time=   1.0s\n",
            "[CV] END .learning_rate=0.01, max_depth=12, n_estimators=300; total time=   1.6s\n",
            "[CV] END .learning_rate=0.01, max_depth=12, n_estimators=300; total time=   1.6s\n",
            "[CV] END .learning_rate=0.01, max_depth=12, n_estimators=300; total time=   1.4s\n",
            "[CV] END .learning_rate=0.01, max_depth=12, n_estimators=300; total time=   1.4s\n",
            "[CV] END .learning_rate=0.01, max_depth=12, n_estimators=300; total time=   1.4s\n",
            "[CV] END .learning_rate=0.01, max_depth=12, n_estimators=400; total time=   1.8s\n",
            "[CV] END .learning_rate=0.01, max_depth=12, n_estimators=400; total time=   1.7s\n",
            "[CV] END .learning_rate=0.01, max_depth=12, n_estimators=400; total time=   1.8s\n",
            "[CV] END .learning_rate=0.01, max_depth=12, n_estimators=400; total time=   2.0s\n",
            "[CV] END .learning_rate=0.01, max_depth=12, n_estimators=400; total time=   1.8s\n",
            "[CV] END .learning_rate=0.01, max_depth=12, n_estimators=500; total time=   2.1s\n",
            "[CV] END .learning_rate=0.01, max_depth=12, n_estimators=500; total time=   2.0s\n",
            "[CV] END .learning_rate=0.01, max_depth=12, n_estimators=500; total time=   2.1s\n",
            "[CV] END .learning_rate=0.01, max_depth=12, n_estimators=500; total time=   2.1s\n",
            "[CV] END .learning_rate=0.01, max_depth=12, n_estimators=500; total time=   2.4s\n",
            "[CV] END .learning_rate=0.01, max_depth=15, n_estimators=100; total time=   0.6s\n",
            "[CV] END .learning_rate=0.01, max_depth=15, n_estimators=100; total time=   0.6s\n",
            "[CV] END .learning_rate=0.01, max_depth=15, n_estimators=100; total time=   0.6s\n",
            "[CV] END .learning_rate=0.01, max_depth=15, n_estimators=100; total time=   0.6s\n",
            "[CV] END .learning_rate=0.01, max_depth=15, n_estimators=100; total time=   0.6s\n",
            "[CV] END .learning_rate=0.01, max_depth=15, n_estimators=200; total time=   1.1s\n",
            "[CV] END .learning_rate=0.01, max_depth=15, n_estimators=200; total time=   1.0s\n",
            "[CV] END .learning_rate=0.01, max_depth=15, n_estimators=200; total time=   1.1s\n",
            "[CV] END .learning_rate=0.01, max_depth=15, n_estimators=200; total time=   1.2s\n",
            "[CV] END .learning_rate=0.01, max_depth=15, n_estimators=200; total time=   1.4s\n",
            "[CV] END .learning_rate=0.01, max_depth=15, n_estimators=300; total time=   1.6s\n",
            "[CV] END .learning_rate=0.01, max_depth=15, n_estimators=300; total time=   1.8s\n",
            "[CV] END .learning_rate=0.01, max_depth=15, n_estimators=300; total time=   1.5s\n",
            "[CV] END .learning_rate=0.01, max_depth=15, n_estimators=300; total time=   1.5s\n",
            "[CV] END .learning_rate=0.01, max_depth=15, n_estimators=300; total time=   1.5s\n",
            "[CV] END .learning_rate=0.01, max_depth=15, n_estimators=400; total time=   1.9s\n",
            "[CV] END .learning_rate=0.01, max_depth=15, n_estimators=400; total time=   1.9s\n",
            "[CV] END .learning_rate=0.01, max_depth=15, n_estimators=400; total time=   2.0s\n",
            "[CV] END .learning_rate=0.01, max_depth=15, n_estimators=400; total time=   2.2s\n",
            "[CV] END .learning_rate=0.01, max_depth=15, n_estimators=400; total time=   1.9s\n",
            "[CV] END .learning_rate=0.01, max_depth=15, n_estimators=500; total time=   2.3s\n",
            "[CV] END .learning_rate=0.01, max_depth=15, n_estimators=500; total time=   2.3s\n",
            "[CV] END .learning_rate=0.01, max_depth=15, n_estimators=500; total time=   2.3s\n",
            "[CV] END .learning_rate=0.01, max_depth=15, n_estimators=500; total time=   2.5s\n",
            "[CV] END .learning_rate=0.01, max_depth=15, n_estimators=500; total time=   2.4s\n",
            "[CV] END .learning_rate=0.001, max_depth=3, n_estimators=100; total time=   0.1s\n",
            "[CV] END .learning_rate=0.001, max_depth=3, n_estimators=100; total time=   0.1s\n",
            "[CV] END .learning_rate=0.001, max_depth=3, n_estimators=100; total time=   0.1s\n",
            "[CV] END .learning_rate=0.001, max_depth=3, n_estimators=100; total time=   0.1s\n",
            "[CV] END .learning_rate=0.001, max_depth=3, n_estimators=100; total time=   0.1s\n",
            "[CV] END .learning_rate=0.001, max_depth=3, n_estimators=200; total time=   0.2s\n",
            "[CV] END .learning_rate=0.001, max_depth=3, n_estimators=200; total time=   0.2s\n",
            "[CV] END .learning_rate=0.001, max_depth=3, n_estimators=200; total time=   0.2s\n",
            "[CV] END .learning_rate=0.001, max_depth=3, n_estimators=200; total time=   0.2s\n",
            "[CV] END .learning_rate=0.001, max_depth=3, n_estimators=200; total time=   0.2s\n",
            "[CV] END .learning_rate=0.001, max_depth=3, n_estimators=300; total time=   0.3s\n",
            "[CV] END .learning_rate=0.001, max_depth=3, n_estimators=300; total time=   0.3s\n",
            "[CV] END .learning_rate=0.001, max_depth=3, n_estimators=300; total time=   0.3s\n",
            "[CV] END .learning_rate=0.001, max_depth=3, n_estimators=300; total time=   0.3s\n",
            "[CV] END .learning_rate=0.001, max_depth=3, n_estimators=300; total time=   0.3s\n",
            "[CV] END .learning_rate=0.001, max_depth=3, n_estimators=400; total time=   0.3s\n",
            "[CV] END .learning_rate=0.001, max_depth=3, n_estimators=400; total time=   0.4s\n",
            "[CV] END .learning_rate=0.001, max_depth=3, n_estimators=400; total time=   0.4s\n",
            "[CV] END .learning_rate=0.001, max_depth=3, n_estimators=400; total time=   0.3s\n",
            "[CV] END .learning_rate=0.001, max_depth=3, n_estimators=400; total time=   0.4s\n",
            "[CV] END .learning_rate=0.001, max_depth=3, n_estimators=500; total time=   0.4s\n",
            "[CV] END .learning_rate=0.001, max_depth=3, n_estimators=500; total time=   0.4s\n",
            "[CV] END .learning_rate=0.001, max_depth=3, n_estimators=500; total time=   0.4s\n",
            "[CV] END .learning_rate=0.001, max_depth=3, n_estimators=500; total time=   0.4s\n",
            "[CV] END .learning_rate=0.001, max_depth=3, n_estimators=500; total time=   0.4s\n",
            "[CV] END .learning_rate=0.001, max_depth=6, n_estimators=100; total time=   0.2s\n",
            "[CV] END .learning_rate=0.001, max_depth=6, n_estimators=100; total time=   0.2s\n",
            "[CV] END .learning_rate=0.001, max_depth=6, n_estimators=100; total time=   0.2s\n",
            "[CV] END .learning_rate=0.001, max_depth=6, n_estimators=100; total time=   0.2s\n",
            "[CV] END .learning_rate=0.001, max_depth=6, n_estimators=100; total time=   0.2s\n",
            "[CV] END .learning_rate=0.001, max_depth=6, n_estimators=200; total time=   0.5s\n",
            "[CV] END .learning_rate=0.001, max_depth=6, n_estimators=200; total time=   0.7s\n",
            "[CV] END .learning_rate=0.001, max_depth=6, n_estimators=200; total time=   0.5s\n",
            "[CV] END .learning_rate=0.001, max_depth=6, n_estimators=200; total time=   0.5s\n",
            "[CV] END .learning_rate=0.001, max_depth=6, n_estimators=200; total time=   0.4s\n",
            "[CV] END .learning_rate=0.001, max_depth=6, n_estimators=300; total time=   0.5s\n",
            "[CV] END .learning_rate=0.001, max_depth=6, n_estimators=300; total time=   0.5s\n",
            "[CV] END .learning_rate=0.001, max_depth=6, n_estimators=300; total time=   0.5s\n",
            "[CV] END .learning_rate=0.001, max_depth=6, n_estimators=300; total time=   0.5s\n",
            "[CV] END .learning_rate=0.001, max_depth=6, n_estimators=300; total time=   0.5s\n",
            "[CV] END .learning_rate=0.001, max_depth=6, n_estimators=400; total time=   0.7s\n",
            "[CV] END .learning_rate=0.001, max_depth=6, n_estimators=400; total time=   0.7s\n",
            "[CV] END .learning_rate=0.001, max_depth=6, n_estimators=400; total time=   0.7s\n",
            "[CV] END .learning_rate=0.001, max_depth=6, n_estimators=400; total time=   0.7s\n",
            "[CV] END .learning_rate=0.001, max_depth=6, n_estimators=400; total time=   0.7s\n",
            "[CV] END .learning_rate=0.001, max_depth=6, n_estimators=500; total time=   0.9s\n",
            "[CV] END .learning_rate=0.001, max_depth=6, n_estimators=500; total time=   0.9s\n",
            "[CV] END .learning_rate=0.001, max_depth=6, n_estimators=500; total time=   0.9s\n",
            "[CV] END .learning_rate=0.001, max_depth=6, n_estimators=500; total time=   1.0s\n",
            "[CV] END .learning_rate=0.001, max_depth=6, n_estimators=500; total time=   1.3s\n",
            "[CV] END .learning_rate=0.001, max_depth=9, n_estimators=100; total time=   0.6s\n",
            "[CV] END .learning_rate=0.001, max_depth=9, n_estimators=100; total time=   0.4s\n",
            "[CV] END .learning_rate=0.001, max_depth=9, n_estimators=100; total time=   0.4s\n",
            "[CV] END .learning_rate=0.001, max_depth=9, n_estimators=100; total time=   0.4s\n",
            "[CV] END .learning_rate=0.001, max_depth=9, n_estimators=100; total time=   0.4s\n",
            "[CV] END .learning_rate=0.001, max_depth=9, n_estimators=200; total time=   0.8s\n",
            "[CV] END .learning_rate=0.001, max_depth=9, n_estimators=200; total time=   0.8s\n",
            "[CV] END .learning_rate=0.001, max_depth=9, n_estimators=200; total time=   0.8s\n",
            "[CV] END .learning_rate=0.001, max_depth=9, n_estimators=200; total time=   0.8s\n",
            "[CV] END .learning_rate=0.001, max_depth=9, n_estimators=200; total time=   0.8s\n",
            "[CV] END .learning_rate=0.001, max_depth=9, n_estimators=300; total time=   1.1s\n",
            "[CV] END .learning_rate=0.001, max_depth=9, n_estimators=300; total time=   1.1s\n",
            "[CV] END .learning_rate=0.001, max_depth=9, n_estimators=300; total time=   1.2s\n",
            "[CV] END .learning_rate=0.001, max_depth=9, n_estimators=300; total time=   1.2s\n",
            "[CV] END .learning_rate=0.001, max_depth=9, n_estimators=300; total time=   1.5s\n",
            "[CV] END .learning_rate=0.001, max_depth=9, n_estimators=400; total time=   1.7s\n",
            "[CV] END .learning_rate=0.001, max_depth=9, n_estimators=400; total time=   1.5s\n",
            "[CV] END .learning_rate=0.001, max_depth=9, n_estimators=400; total time=   1.5s\n",
            "[CV] END .learning_rate=0.001, max_depth=9, n_estimators=400; total time=   1.5s\n",
            "[CV] END .learning_rate=0.001, max_depth=9, n_estimators=400; total time=   1.5s\n",
            "[CV] END .learning_rate=0.001, max_depth=9, n_estimators=500; total time=   1.9s\n",
            "[CV] END .learning_rate=0.001, max_depth=9, n_estimators=500; total time=   2.1s\n",
            "[CV] END .learning_rate=0.001, max_depth=9, n_estimators=500; total time=   2.0s\n",
            "[CV] END .learning_rate=0.001, max_depth=9, n_estimators=500; total time=   1.8s\n",
            "[CV] END .learning_rate=0.001, max_depth=9, n_estimators=500; total time=   1.9s\n",
            "[CV] END learning_rate=0.001, max_depth=12, n_estimators=100; total time=   0.5s\n",
            "[CV] END learning_rate=0.001, max_depth=12, n_estimators=100; total time=   0.5s\n",
            "[CV] END learning_rate=0.001, max_depth=12, n_estimators=100; total time=   0.5s\n",
            "[CV] END learning_rate=0.001, max_depth=12, n_estimators=100; total time=   0.5s\n",
            "[CV] END learning_rate=0.001, max_depth=12, n_estimators=100; total time=   0.5s\n",
            "[CV] END learning_rate=0.001, max_depth=12, n_estimators=200; total time=   1.0s\n",
            "[CV] END learning_rate=0.001, max_depth=12, n_estimators=200; total time=   1.0s\n",
            "[CV] END learning_rate=0.001, max_depth=12, n_estimators=200; total time=   1.1s\n",
            "[CV] END learning_rate=0.001, max_depth=12, n_estimators=200; total time=   1.4s\n",
            "[CV] END learning_rate=0.001, max_depth=12, n_estimators=200; total time=   1.1s\n",
            "[CV] END learning_rate=0.001, max_depth=12, n_estimators=300; total time=   1.5s\n",
            "[CV] END learning_rate=0.001, max_depth=12, n_estimators=300; total time=   1.5s\n",
            "[CV] END learning_rate=0.001, max_depth=12, n_estimators=300; total time=   1.5s\n",
            "[CV] END learning_rate=0.001, max_depth=12, n_estimators=300; total time=   1.5s\n",
            "[CV] END learning_rate=0.001, max_depth=12, n_estimators=300; total time=   1.7s\n",
            "[CV] END learning_rate=0.001, max_depth=12, n_estimators=400; total time=   2.6s\n",
            "[CV] END learning_rate=0.001, max_depth=12, n_estimators=400; total time=   2.2s\n",
            "[CV] END learning_rate=0.001, max_depth=12, n_estimators=400; total time=   2.0s\n",
            "[CV] END learning_rate=0.001, max_depth=12, n_estimators=400; total time=   2.0s\n",
            "[CV] END learning_rate=0.001, max_depth=12, n_estimators=400; total time=   2.0s\n",
            "[CV] END learning_rate=0.001, max_depth=12, n_estimators=500; total time=   2.4s\n",
            "[CV] END learning_rate=0.001, max_depth=12, n_estimators=500; total time=   2.8s\n",
            "[CV] END learning_rate=0.001, max_depth=12, n_estimators=500; total time=   2.6s\n",
            "[CV] END learning_rate=0.001, max_depth=12, n_estimators=500; total time=   2.6s\n",
            "[CV] END learning_rate=0.001, max_depth=12, n_estimators=500; total time=   2.9s\n",
            "[CV] END learning_rate=0.001, max_depth=15, n_estimators=100; total time=   0.5s\n",
            "[CV] END learning_rate=0.001, max_depth=15, n_estimators=100; total time=   0.5s\n",
            "[CV] END learning_rate=0.001, max_depth=15, n_estimators=100; total time=   0.6s\n",
            "[CV] END learning_rate=0.001, max_depth=15, n_estimators=100; total time=   0.7s\n",
            "[CV] END learning_rate=0.001, max_depth=15, n_estimators=100; total time=   0.6s\n",
            "[CV] END learning_rate=0.001, max_depth=15, n_estimators=200; total time=   1.2s\n",
            "[CV] END learning_rate=0.001, max_depth=15, n_estimators=200; total time=   1.1s\n",
            "[CV] END learning_rate=0.001, max_depth=15, n_estimators=200; total time=   1.1s\n",
            "[CV] END learning_rate=0.001, max_depth=15, n_estimators=200; total time=   1.1s\n",
            "[CV] END learning_rate=0.001, max_depth=15, n_estimators=200; total time=   1.1s\n",
            "[CV] END learning_rate=0.001, max_depth=15, n_estimators=300; total time=   1.6s\n",
            "[CV] END learning_rate=0.001, max_depth=15, n_estimators=300; total time=   1.6s\n",
            "[CV] END learning_rate=0.001, max_depth=15, n_estimators=300; total time=   1.6s\n",
            "[CV] END learning_rate=0.001, max_depth=15, n_estimators=300; total time=   1.8s\n",
            "[CV] END learning_rate=0.001, max_depth=15, n_estimators=300; total time=   1.8s\n",
            "[CV] END learning_rate=0.001, max_depth=15, n_estimators=400; total time=   2.1s\n",
            "[CV] END learning_rate=0.001, max_depth=15, n_estimators=400; total time=   2.1s\n",
            "[CV] END learning_rate=0.001, max_depth=15, n_estimators=400; total time=   2.2s\n",
            "[CV] END learning_rate=0.001, max_depth=15, n_estimators=400; total time=   2.2s\n",
            "[CV] END learning_rate=0.001, max_depth=15, n_estimators=400; total time=   2.4s\n",
            "[CV] END learning_rate=0.001, max_depth=15, n_estimators=500; total time=   2.7s\n",
            "[CV] END learning_rate=0.001, max_depth=15, n_estimators=500; total time=   2.6s\n",
            "[CV] END learning_rate=0.001, max_depth=15, n_estimators=500; total time=   2.7s\n",
            "[CV] END learning_rate=0.001, max_depth=15, n_estimators=500; total time=   2.9s\n",
            "[CV] END learning_rate=0.001, max_depth=15, n_estimators=500; total time=   2.9s\n",
            "[CV] END learning_rate=0.0001, max_depth=3, n_estimators=100; total time=   0.1s\n",
            "[CV] END learning_rate=0.0001, max_depth=3, n_estimators=100; total time=   0.1s\n",
            "[CV] END learning_rate=0.0001, max_depth=3, n_estimators=100; total time=   0.1s\n",
            "[CV] END learning_rate=0.0001, max_depth=3, n_estimators=100; total time=   0.1s\n",
            "[CV] END learning_rate=0.0001, max_depth=3, n_estimators=100; total time=   0.1s\n",
            "[CV] END learning_rate=0.0001, max_depth=3, n_estimators=200; total time=   0.2s\n",
            "[CV] END learning_rate=0.0001, max_depth=3, n_estimators=200; total time=   0.2s\n",
            "[CV] END learning_rate=0.0001, max_depth=3, n_estimators=200; total time=   0.2s\n",
            "[CV] END learning_rate=0.0001, max_depth=3, n_estimators=200; total time=   0.2s\n",
            "[CV] END learning_rate=0.0001, max_depth=3, n_estimators=200; total time=   0.2s\n",
            "[CV] END learning_rate=0.0001, max_depth=3, n_estimators=300; total time=   0.3s\n",
            "[CV] END learning_rate=0.0001, max_depth=3, n_estimators=300; total time=   0.3s\n",
            "[CV] END learning_rate=0.0001, max_depth=3, n_estimators=300; total time=   0.3s\n",
            "[CV] END learning_rate=0.0001, max_depth=3, n_estimators=300; total time=   0.3s\n",
            "[CV] END learning_rate=0.0001, max_depth=3, n_estimators=300; total time=   0.3s\n",
            "[CV] END learning_rate=0.0001, max_depth=3, n_estimators=400; total time=   0.3s\n",
            "[CV] END learning_rate=0.0001, max_depth=3, n_estimators=400; total time=   0.4s\n",
            "[CV] END learning_rate=0.0001, max_depth=3, n_estimators=400; total time=   0.4s\n",
            "[CV] END learning_rate=0.0001, max_depth=3, n_estimators=400; total time=   0.4s\n",
            "[CV] END learning_rate=0.0001, max_depth=3, n_estimators=400; total time=   0.4s\n",
            "[CV] END learning_rate=0.0001, max_depth=3, n_estimators=500; total time=   0.4s\n",
            "[CV] END learning_rate=0.0001, max_depth=3, n_estimators=500; total time=   0.4s\n",
            "[CV] END learning_rate=0.0001, max_depth=3, n_estimators=500; total time=   0.4s\n",
            "[CV] END learning_rate=0.0001, max_depth=3, n_estimators=500; total time=   0.4s\n",
            "[CV] END learning_rate=0.0001, max_depth=3, n_estimators=500; total time=   0.4s\n",
            "[CV] END learning_rate=0.0001, max_depth=6, n_estimators=100; total time=   0.2s\n",
            "[CV] END learning_rate=0.0001, max_depth=6, n_estimators=100; total time=   0.2s\n",
            "[CV] END learning_rate=0.0001, max_depth=6, n_estimators=100; total time=   0.2s\n",
            "[CV] END learning_rate=0.0001, max_depth=6, n_estimators=100; total time=   0.2s\n",
            "[CV] END learning_rate=0.0001, max_depth=6, n_estimators=100; total time=   0.2s\n",
            "[CV] END learning_rate=0.0001, max_depth=6, n_estimators=200; total time=   0.4s\n",
            "[CV] END learning_rate=0.0001, max_depth=6, n_estimators=200; total time=   0.4s\n",
            "[CV] END learning_rate=0.0001, max_depth=6, n_estimators=200; total time=   0.5s\n",
            "[CV] END learning_rate=0.0001, max_depth=6, n_estimators=200; total time=   0.6s\n",
            "[CV] END learning_rate=0.0001, max_depth=6, n_estimators=200; total time=   0.5s\n",
            "[CV] END learning_rate=0.0001, max_depth=6, n_estimators=300; total time=   0.6s\n",
            "[CV] END learning_rate=0.0001, max_depth=6, n_estimators=300; total time=   0.5s\n",
            "[CV] END learning_rate=0.0001, max_depth=6, n_estimators=300; total time=   0.6s\n",
            "[CV] END learning_rate=0.0001, max_depth=6, n_estimators=300; total time=   0.5s\n",
            "[CV] END learning_rate=0.0001, max_depth=6, n_estimators=300; total time=   0.5s\n",
            "[CV] END learning_rate=0.0001, max_depth=6, n_estimators=400; total time=   0.7s\n",
            "[CV] END learning_rate=0.0001, max_depth=6, n_estimators=400; total time=   0.7s\n",
            "[CV] END learning_rate=0.0001, max_depth=6, n_estimators=400; total time=   0.7s\n",
            "[CV] END learning_rate=0.0001, max_depth=6, n_estimators=400; total time=   0.7s\n",
            "[CV] END learning_rate=0.0001, max_depth=6, n_estimators=400; total time=   0.7s\n",
            "[CV] END learning_rate=0.0001, max_depth=6, n_estimators=500; total time=   0.9s\n",
            "[CV] END learning_rate=0.0001, max_depth=6, n_estimators=500; total time=   0.9s\n",
            "[CV] END learning_rate=0.0001, max_depth=6, n_estimators=500; total time=   0.9s\n",
            "[CV] END learning_rate=0.0001, max_depth=6, n_estimators=500; total time=   0.9s\n",
            "[CV] END learning_rate=0.0001, max_depth=6, n_estimators=500; total time=   1.0s\n",
            "[CV] END learning_rate=0.0001, max_depth=9, n_estimators=100; total time=   0.5s\n",
            "[CV] END learning_rate=0.0001, max_depth=9, n_estimators=100; total time=   0.6s\n",
            "[CV] END learning_rate=0.0001, max_depth=9, n_estimators=100; total time=   0.5s\n",
            "[CV] END learning_rate=0.0001, max_depth=9, n_estimators=100; total time=   0.4s\n",
            "[CV] END learning_rate=0.0001, max_depth=9, n_estimators=100; total time=   0.4s\n",
            "[CV] END learning_rate=0.0001, max_depth=9, n_estimators=200; total time=   0.7s\n",
            "[CV] END learning_rate=0.0001, max_depth=9, n_estimators=200; total time=   0.7s\n",
            "[CV] END learning_rate=0.0001, max_depth=9, n_estimators=200; total time=   0.8s\n",
            "[CV] END learning_rate=0.0001, max_depth=9, n_estimators=200; total time=   0.8s\n",
            "[CV] END learning_rate=0.0001, max_depth=9, n_estimators=200; total time=   0.7s\n",
            "[CV] END learning_rate=0.0001, max_depth=9, n_estimators=300; total time=   1.1s\n",
            "[CV] END learning_rate=0.0001, max_depth=9, n_estimators=300; total time=   1.1s\n",
            "[CV] END learning_rate=0.0001, max_depth=9, n_estimators=300; total time=   1.2s\n",
            "[CV] END learning_rate=0.0001, max_depth=9, n_estimators=300; total time=   1.1s\n",
            "[CV] END learning_rate=0.0001, max_depth=9, n_estimators=300; total time=   1.2s\n",
            "[CV] END learning_rate=0.0001, max_depth=9, n_estimators=400; total time=   1.9s\n",
            "[CV] END learning_rate=0.0001, max_depth=9, n_estimators=400; total time=   1.5s\n",
            "[CV] END learning_rate=0.0001, max_depth=9, n_estimators=400; total time=   1.6s\n",
            "[CV] END learning_rate=0.0001, max_depth=9, n_estimators=400; total time=   1.5s\n",
            "[CV] END learning_rate=0.0001, max_depth=9, n_estimators=400; total time=   1.4s\n",
            "[CV] END learning_rate=0.0001, max_depth=9, n_estimators=500; total time=   1.8s\n",
            "[CV] END learning_rate=0.0001, max_depth=9, n_estimators=500; total time=   1.8s\n",
            "[CV] END learning_rate=0.0001, max_depth=9, n_estimators=500; total time=   2.3s\n",
            "[CV] END learning_rate=0.0001, max_depth=9, n_estimators=500; total time=   1.9s\n",
            "[CV] END learning_rate=0.0001, max_depth=9, n_estimators=500; total time=   1.8s\n",
            "[CV] END learning_rate=0.0001, max_depth=12, n_estimators=100; total time=   0.5s\n",
            "[CV] END learning_rate=0.0001, max_depth=12, n_estimators=100; total time=   0.5s\n",
            "[CV] END learning_rate=0.0001, max_depth=12, n_estimators=100; total time=   0.5s\n",
            "[CV] END learning_rate=0.0001, max_depth=12, n_estimators=100; total time=   0.5s\n",
            "[CV] END learning_rate=0.0001, max_depth=12, n_estimators=100; total time=   0.5s\n",
            "[CV] END learning_rate=0.0001, max_depth=12, n_estimators=200; total time=   0.9s\n",
            "[CV] END learning_rate=0.0001, max_depth=12, n_estimators=200; total time=   0.9s\n",
            "[CV] END learning_rate=0.0001, max_depth=12, n_estimators=200; total time=   1.0s\n",
            "[CV] END learning_rate=0.0001, max_depth=12, n_estimators=200; total time=   1.0s\n",
            "[CV] END learning_rate=0.0001, max_depth=12, n_estimators=200; total time=   1.1s\n",
            "[CV] END learning_rate=0.0001, max_depth=12, n_estimators=300; total time=   1.6s\n",
            "[CV] END learning_rate=0.0001, max_depth=12, n_estimators=300; total time=   1.4s\n",
            "[CV] END learning_rate=0.0001, max_depth=12, n_estimators=300; total time=   1.5s\n",
            "[CV] END learning_rate=0.0001, max_depth=12, n_estimators=300; total time=   1.5s\n",
            "[CV] END learning_rate=0.0001, max_depth=12, n_estimators=300; total time=   1.5s\n",
            "[CV] END learning_rate=0.0001, max_depth=12, n_estimators=400; total time=   1.9s\n",
            "[CV] END learning_rate=0.0001, max_depth=12, n_estimators=400; total time=   2.0s\n",
            "[CV] END learning_rate=0.0001, max_depth=12, n_estimators=400; total time=   2.4s\n",
            "[CV] END learning_rate=0.0001, max_depth=12, n_estimators=400; total time=   2.0s\n",
            "[CV] END learning_rate=0.0001, max_depth=12, n_estimators=400; total time=   2.0s\n",
            "[CV] END learning_rate=0.0001, max_depth=12, n_estimators=500; total time=   2.3s\n",
            "[CV] END learning_rate=0.0001, max_depth=12, n_estimators=500; total time=   2.4s\n",
            "[CV] END learning_rate=0.0001, max_depth=12, n_estimators=500; total time=   2.9s\n",
            "[CV] END learning_rate=0.0001, max_depth=12, n_estimators=500; total time=   2.5s\n",
            "[CV] END learning_rate=0.0001, max_depth=12, n_estimators=500; total time=   2.5s\n",
            "[CV] END learning_rate=0.0001, max_depth=15, n_estimators=100; total time=   0.5s\n",
            "[CV] END learning_rate=0.0001, max_depth=15, n_estimators=100; total time=   0.5s\n",
            "[CV] END learning_rate=0.0001, max_depth=15, n_estimators=100; total time=   0.6s\n",
            "[CV] END learning_rate=0.0001, max_depth=15, n_estimators=100; total time=   0.5s\n",
            "[CV] END learning_rate=0.0001, max_depth=15, n_estimators=100; total time=   0.5s\n",
            "[CV] END learning_rate=0.0001, max_depth=15, n_estimators=200; total time=   1.0s\n",
            "[CV] END learning_rate=0.0001, max_depth=15, n_estimators=200; total time=   1.0s\n",
            "[CV] END learning_rate=0.0001, max_depth=15, n_estimators=200; total time=   1.2s\n",
            "[CV] END learning_rate=0.0001, max_depth=15, n_estimators=200; total time=   1.3s\n",
            "[CV] END learning_rate=0.0001, max_depth=15, n_estimators=200; total time=   1.0s\n",
            "[CV] END learning_rate=0.0001, max_depth=15, n_estimators=300; total time=   1.5s\n",
            "[CV] END learning_rate=0.0001, max_depth=15, n_estimators=300; total time=   1.5s\n",
            "[CV] END learning_rate=0.0001, max_depth=15, n_estimators=300; total time=   1.6s\n",
            "[CV] END learning_rate=0.0001, max_depth=15, n_estimators=300; total time=   1.6s\n",
            "[CV] END learning_rate=0.0001, max_depth=15, n_estimators=300; total time=   1.5s\n",
            "[CV] END learning_rate=0.0001, max_depth=15, n_estimators=400; total time=   2.2s\n",
            "[CV] END learning_rate=0.0001, max_depth=15, n_estimators=400; total time=   2.2s\n",
            "[CV] END learning_rate=0.0001, max_depth=15, n_estimators=400; total time=   2.1s\n",
            "[CV] END learning_rate=0.0001, max_depth=15, n_estimators=400; total time=   2.1s\n",
            "[CV] END learning_rate=0.0001, max_depth=15, n_estimators=400; total time=   2.1s\n",
            "[CV] END learning_rate=0.0001, max_depth=15, n_estimators=500; total time=   2.6s\n",
            "[CV] END learning_rate=0.0001, max_depth=15, n_estimators=500; total time=   2.8s\n",
            "[CV] END learning_rate=0.0001, max_depth=15, n_estimators=500; total time=   2.6s\n",
            "[CV] END learning_rate=0.0001, max_depth=15, n_estimators=500; total time=   2.6s\n",
            "[CV] END learning_rate=0.0001, max_depth=15, n_estimators=500; total time=   2.6s\n",
            "CPU times: user 8min 6s, sys: 3.12 s, total: 8min 9s\n",
            "Wall time: 7min 47s\n"
          ]
        },
        {
          "output_type": "execute_result",
          "data": {
            "text/plain": [
              "GridSearchCV(cv=5,\n",
              "             estimator=XGBClassifier(base_score=None, booster=None,\n",
              "                                     callbacks=None, colsample_bylevel=None,\n",
              "                                     colsample_bynode=None,\n",
              "                                     colsample_bytree=None, device='cuda',\n",
              "                                     early_stopping_rounds=None,\n",
              "                                     enable_categorical=False, eval_metric=None,\n",
              "                                     feature_types=None, gamma=None,\n",
              "                                     grow_policy=None, importance_type=None,\n",
              "                                     interaction_constraints=None,\n",
              "                                     learning_rate=Non...\n",
              "                                     max_cat_to_onehot=None,\n",
              "                                     max_delta_step=None, max_depth=None,\n",
              "                                     max_leaves=None, min_child_weight=None,\n",
              "                                     missing=nan, monotone_constraints=None,\n",
              "                                     multi_strategy=None, n_estimators=None,\n",
              "                                     n_jobs=None, nthread=2,\n",
              "                                     num_parallel_tree=None, ...),\n",
              "             param_grid={'learning_rate': [0.1, 0.01, 0.001, 0.0001],\n",
              "                         'max_depth': [3, 6, 9, 12, 15],\n",
              "                         'n_estimators': [100, 200, 300, 400, 500]},\n",
              "             scoring='accuracy', verbose=2)"
            ],
            "text/html": [
              "<style>#sk-container-id-1 {color: black;background-color: white;}#sk-container-id-1 pre{padding: 0;}#sk-container-id-1 div.sk-toggleable {background-color: white;}#sk-container-id-1 label.sk-toggleable__label {cursor: pointer;display: block;width: 100%;margin-bottom: 0;padding: 0.3em;box-sizing: border-box;text-align: center;}#sk-container-id-1 label.sk-toggleable__label-arrow:before {content: \"▸\";float: left;margin-right: 0.25em;color: #696969;}#sk-container-id-1 label.sk-toggleable__label-arrow:hover:before {color: black;}#sk-container-id-1 div.sk-estimator:hover label.sk-toggleable__label-arrow:before {color: black;}#sk-container-id-1 div.sk-toggleable__content {max-height: 0;max-width: 0;overflow: hidden;text-align: left;background-color: #f0f8ff;}#sk-container-id-1 div.sk-toggleable__content pre {margin: 0.2em;color: black;border-radius: 0.25em;background-color: #f0f8ff;}#sk-container-id-1 input.sk-toggleable__control:checked~div.sk-toggleable__content {max-height: 200px;max-width: 100%;overflow: auto;}#sk-container-id-1 input.sk-toggleable__control:checked~label.sk-toggleable__label-arrow:before {content: \"▾\";}#sk-container-id-1 div.sk-estimator input.sk-toggleable__control:checked~label.sk-toggleable__label {background-color: #d4ebff;}#sk-container-id-1 div.sk-label input.sk-toggleable__control:checked~label.sk-toggleable__label {background-color: #d4ebff;}#sk-container-id-1 input.sk-hidden--visually {border: 0;clip: rect(1px 1px 1px 1px);clip: rect(1px, 1px, 1px, 1px);height: 1px;margin: -1px;overflow: hidden;padding: 0;position: absolute;width: 1px;}#sk-container-id-1 div.sk-estimator {font-family: monospace;background-color: #f0f8ff;border: 1px dotted black;border-radius: 0.25em;box-sizing: border-box;margin-bottom: 0.5em;}#sk-container-id-1 div.sk-estimator:hover {background-color: #d4ebff;}#sk-container-id-1 div.sk-parallel-item::after {content: \"\";width: 100%;border-bottom: 1px solid gray;flex-grow: 1;}#sk-container-id-1 div.sk-label:hover label.sk-toggleable__label {background-color: #d4ebff;}#sk-container-id-1 div.sk-serial::before {content: \"\";position: absolute;border-left: 1px solid gray;box-sizing: border-box;top: 0;bottom: 0;left: 50%;z-index: 0;}#sk-container-id-1 div.sk-serial {display: flex;flex-direction: column;align-items: center;background-color: white;padding-right: 0.2em;padding-left: 0.2em;position: relative;}#sk-container-id-1 div.sk-item {position: relative;z-index: 1;}#sk-container-id-1 div.sk-parallel {display: flex;align-items: stretch;justify-content: center;background-color: white;position: relative;}#sk-container-id-1 div.sk-item::before, #sk-container-id-1 div.sk-parallel-item::before {content: \"\";position: absolute;border-left: 1px solid gray;box-sizing: border-box;top: 0;bottom: 0;left: 50%;z-index: -1;}#sk-container-id-1 div.sk-parallel-item {display: flex;flex-direction: column;z-index: 1;position: relative;background-color: white;}#sk-container-id-1 div.sk-parallel-item:first-child::after {align-self: flex-end;width: 50%;}#sk-container-id-1 div.sk-parallel-item:last-child::after {align-self: flex-start;width: 50%;}#sk-container-id-1 div.sk-parallel-item:only-child::after {width: 0;}#sk-container-id-1 div.sk-dashed-wrapped {border: 1px dashed gray;margin: 0 0.4em 0.5em 0.4em;box-sizing: border-box;padding-bottom: 0.4em;background-color: white;}#sk-container-id-1 div.sk-label label {font-family: monospace;font-weight: bold;display: inline-block;line-height: 1.2em;}#sk-container-id-1 div.sk-label-container {text-align: center;}#sk-container-id-1 div.sk-container {/* jupyter's `normalize.less` sets `[hidden] { display: none; }` but bootstrap.min.css set `[hidden] { display: none !important; }` so we also need the `!important` here to be able to override the default hidden behavior on the sphinx rendered scikit-learn.org. See: https://github.com/scikit-learn/scikit-learn/issues/21755 */display: inline-block !important;position: relative;}#sk-container-id-1 div.sk-text-repr-fallback {display: none;}</style><div id=\"sk-container-id-1\" class=\"sk-top-container\"><div class=\"sk-text-repr-fallback\"><pre>GridSearchCV(cv=5,\n",
              "             estimator=XGBClassifier(base_score=None, booster=None,\n",
              "                                     callbacks=None, colsample_bylevel=None,\n",
              "                                     colsample_bynode=None,\n",
              "                                     colsample_bytree=None, device=&#x27;cuda&#x27;,\n",
              "                                     early_stopping_rounds=None,\n",
              "                                     enable_categorical=False, eval_metric=None,\n",
              "                                     feature_types=None, gamma=None,\n",
              "                                     grow_policy=None, importance_type=None,\n",
              "                                     interaction_constraints=None,\n",
              "                                     learning_rate=Non...\n",
              "                                     max_cat_to_onehot=None,\n",
              "                                     max_delta_step=None, max_depth=None,\n",
              "                                     max_leaves=None, min_child_weight=None,\n",
              "                                     missing=nan, monotone_constraints=None,\n",
              "                                     multi_strategy=None, n_estimators=None,\n",
              "                                     n_jobs=None, nthread=2,\n",
              "                                     num_parallel_tree=None, ...),\n",
              "             param_grid={&#x27;learning_rate&#x27;: [0.1, 0.01, 0.001, 0.0001],\n",
              "                         &#x27;max_depth&#x27;: [3, 6, 9, 12, 15],\n",
              "                         &#x27;n_estimators&#x27;: [100, 200, 300, 400, 500]},\n",
              "             scoring=&#x27;accuracy&#x27;, verbose=2)</pre><b>In a Jupyter environment, please rerun this cell to show the HTML representation or trust the notebook. <br />On GitHub, the HTML representation is unable to render, please try loading this page with nbviewer.org.</b></div><div class=\"sk-container\" hidden><div class=\"sk-item sk-dashed-wrapped\"><div class=\"sk-label-container\"><div class=\"sk-label sk-toggleable\"><input class=\"sk-toggleable__control sk-hidden--visually\" id=\"sk-estimator-id-1\" type=\"checkbox\" ><label for=\"sk-estimator-id-1\" class=\"sk-toggleable__label sk-toggleable__label-arrow\">GridSearchCV</label><div class=\"sk-toggleable__content\"><pre>GridSearchCV(cv=5,\n",
              "             estimator=XGBClassifier(base_score=None, booster=None,\n",
              "                                     callbacks=None, colsample_bylevel=None,\n",
              "                                     colsample_bynode=None,\n",
              "                                     colsample_bytree=None, device=&#x27;cuda&#x27;,\n",
              "                                     early_stopping_rounds=None,\n",
              "                                     enable_categorical=False, eval_metric=None,\n",
              "                                     feature_types=None, gamma=None,\n",
              "                                     grow_policy=None, importance_type=None,\n",
              "                                     interaction_constraints=None,\n",
              "                                     learning_rate=Non...\n",
              "                                     max_cat_to_onehot=None,\n",
              "                                     max_delta_step=None, max_depth=None,\n",
              "                                     max_leaves=None, min_child_weight=None,\n",
              "                                     missing=nan, monotone_constraints=None,\n",
              "                                     multi_strategy=None, n_estimators=None,\n",
              "                                     n_jobs=None, nthread=2,\n",
              "                                     num_parallel_tree=None, ...),\n",
              "             param_grid={&#x27;learning_rate&#x27;: [0.1, 0.01, 0.001, 0.0001],\n",
              "                         &#x27;max_depth&#x27;: [3, 6, 9, 12, 15],\n",
              "                         &#x27;n_estimators&#x27;: [100, 200, 300, 400, 500]},\n",
              "             scoring=&#x27;accuracy&#x27;, verbose=2)</pre></div></div></div><div class=\"sk-parallel\"><div class=\"sk-parallel-item\"><div class=\"sk-item\"><div class=\"sk-label-container\"><div class=\"sk-label sk-toggleable\"><input class=\"sk-toggleable__control sk-hidden--visually\" id=\"sk-estimator-id-2\" type=\"checkbox\" ><label for=\"sk-estimator-id-2\" class=\"sk-toggleable__label sk-toggleable__label-arrow\">estimator: XGBClassifier</label><div class=\"sk-toggleable__content\"><pre>XGBClassifier(base_score=None, booster=None, callbacks=None,\n",
              "              colsample_bylevel=None, colsample_bynode=None,\n",
              "              colsample_bytree=None, device=&#x27;cuda&#x27;, early_stopping_rounds=None,\n",
              "              enable_categorical=False, eval_metric=None, feature_types=None,\n",
              "              gamma=None, grow_policy=None, importance_type=None,\n",
              "              interaction_constraints=None, learning_rate=None, max_bin=64,\n",
              "              max_cat_threshold=None, max_cat_to_onehot=None,\n",
              "              max_delta_step=None, max_depth=None, max_leaves=None,\n",
              "              min_child_weight=None, missing=nan, monotone_constraints=None,\n",
              "              multi_strategy=None, n_estimators=None, n_jobs=None, nthread=2,\n",
              "              num_parallel_tree=None, ...)</pre></div></div></div><div class=\"sk-serial\"><div class=\"sk-item\"><div class=\"sk-estimator sk-toggleable\"><input class=\"sk-toggleable__control sk-hidden--visually\" id=\"sk-estimator-id-3\" type=\"checkbox\" ><label for=\"sk-estimator-id-3\" class=\"sk-toggleable__label sk-toggleable__label-arrow\">XGBClassifier</label><div class=\"sk-toggleable__content\"><pre>XGBClassifier(base_score=None, booster=None, callbacks=None,\n",
              "              colsample_bylevel=None, colsample_bynode=None,\n",
              "              colsample_bytree=None, device=&#x27;cuda&#x27;, early_stopping_rounds=None,\n",
              "              enable_categorical=False, eval_metric=None, feature_types=None,\n",
              "              gamma=None, grow_policy=None, importance_type=None,\n",
              "              interaction_constraints=None, learning_rate=None, max_bin=64,\n",
              "              max_cat_threshold=None, max_cat_to_onehot=None,\n",
              "              max_delta_step=None, max_depth=None, max_leaves=None,\n",
              "              min_child_weight=None, missing=nan, monotone_constraints=None,\n",
              "              multi_strategy=None, n_estimators=None, n_jobs=None, nthread=2,\n",
              "              num_parallel_tree=None, ...)</pre></div></div></div></div></div></div></div></div></div></div>"
            ]
          },
          "metadata": {},
          "execution_count": 8
        }
      ]
    },
    {
      "cell_type": "code",
      "source": [
        "print(\"Grid Search Best Parameters:\", grid_search_xgb.best_params_)\n",
        "print(\"Grid Search Best Accuracy:\", grid_search_xgb.best_score_)"
      ],
      "metadata": {
        "id": "XLKgZ-GY4BqS",
        "colab": {
          "base_uri": "https://localhost:8080/"
        },
        "outputId": "97539e6b-2092-4f14-989f-c6c0d0dce1e8"
      },
      "execution_count": null,
      "outputs": [
        {
          "output_type": "stream",
          "name": "stdout",
          "text": [
            "Grid Search Best Parameters: {'learning_rate': 0.1, 'max_depth': 9, 'n_estimators': 500}\n",
            "Grid Search Best Accuracy: 0.95475\n"
          ]
        }
      ]
    },
    {
      "cell_type": "code",
      "source": [
        "# Evaluate the final tuned model on the test set\n",
        "final_model_xgb = grid_search_xgb.best_estimator_\n",
        "test_accuracy_xgb = final_model_xgb.score(X_test, y_test)\n",
        "print(\"Final Model Test Accuracy:\", test_accuracy_xgb)"
      ],
      "metadata": {
        "colab": {
          "base_uri": "https://localhost:8080/"
        },
        "id": "EHX4EwRe4Fsc",
        "outputId": "1e0e6fb1-8238-4bc5-b73c-3c48bba888b5"
      },
      "execution_count": null,
      "outputs": [
        {
          "output_type": "stream",
          "name": "stdout",
          "text": [
            "Final Model Test Accuracy: 0.9645\n"
          ]
        }
      ]
    },
    {
      "cell_type": "code",
      "source": [
        "# Random search\n",
        "%%time\n",
        "random_search_xgb = RandomizedSearchCV(xgb_classifier, param_grid_xgb, n_iter=20, cv=5, scoring='accuracy', random_state=random_state, verbose=2)\n",
        "random_search_xgb.fit(X_train, y_train)"
      ],
      "metadata": {
        "id": "h07AQ5Z24FwX",
        "colab": {
          "base_uri": "https://localhost:8080/",
          "height": 1000
        },
        "outputId": "b8f4ff97-418f-4c95-821e-0bc9a31ddf4f"
      },
      "execution_count": null,
      "outputs": [
        {
          "output_type": "stream",
          "name": "stdout",
          "text": [
            "Fitting 5 folds for each of 20 candidates, totalling 100 fits\n",
            "[CV] END learning_rate=0.0001, max_depth=6, n_estimators=400; total time=   0.8s\n",
            "[CV] END learning_rate=0.0001, max_depth=6, n_estimators=400; total time=   0.7s\n",
            "[CV] END learning_rate=0.0001, max_depth=6, n_estimators=400; total time=   0.7s\n",
            "[CV] END learning_rate=0.0001, max_depth=6, n_estimators=400; total time=   0.7s\n",
            "[CV] END learning_rate=0.0001, max_depth=6, n_estimators=400; total time=   0.7s\n",
            "[CV] END ...learning_rate=0.1, max_depth=3, n_estimators=200; total time=   0.2s\n",
            "[CV] END ...learning_rate=0.1, max_depth=3, n_estimators=200; total time=   0.2s\n",
            "[CV] END ...learning_rate=0.1, max_depth=3, n_estimators=200; total time=   0.2s\n",
            "[CV] END ...learning_rate=0.1, max_depth=3, n_estimators=200; total time=   0.2s\n",
            "[CV] END ...learning_rate=0.1, max_depth=3, n_estimators=200; total time=   0.2s\n",
            "[CV] END .learning_rate=0.001, max_depth=6, n_estimators=100; total time=   0.2s\n",
            "[CV] END .learning_rate=0.001, max_depth=6, n_estimators=100; total time=   0.2s\n",
            "[CV] END .learning_rate=0.001, max_depth=6, n_estimators=100; total time=   0.2s\n",
            "[CV] END .learning_rate=0.001, max_depth=6, n_estimators=100; total time=   0.2s\n",
            "[CV] END .learning_rate=0.001, max_depth=6, n_estimators=100; total time=   0.3s\n",
            "[CV] END ...learning_rate=0.1, max_depth=6, n_estimators=500; total time=   1.0s\n",
            "[CV] END ...learning_rate=0.1, max_depth=6, n_estimators=500; total time=   1.0s\n",
            "[CV] END ...learning_rate=0.1, max_depth=6, n_estimators=500; total time=   0.8s\n",
            "[CV] END ...learning_rate=0.1, max_depth=6, n_estimators=500; total time=   0.8s\n",
            "[CV] END ...learning_rate=0.1, max_depth=6, n_estimators=500; total time=   0.8s\n",
            "[CV] END ..learning_rate=0.01, max_depth=6, n_estimators=200; total time=   0.4s\n",
            "[CV] END ..learning_rate=0.01, max_depth=6, n_estimators=200; total time=   0.4s\n",
            "[CV] END ..learning_rate=0.01, max_depth=6, n_estimators=200; total time=   0.4s\n",
            "[CV] END ..learning_rate=0.01, max_depth=6, n_estimators=200; total time=   0.4s\n",
            "[CV] END ..learning_rate=0.01, max_depth=6, n_estimators=200; total time=   0.4s\n",
            "[CV] END ..learning_rate=0.01, max_depth=3, n_estimators=400; total time=   0.4s\n",
            "[CV] END ..learning_rate=0.01, max_depth=3, n_estimators=400; total time=   0.3s\n",
            "[CV] END ..learning_rate=0.01, max_depth=3, n_estimators=400; total time=   0.4s\n",
            "[CV] END ..learning_rate=0.01, max_depth=3, n_estimators=400; total time=   0.3s\n",
            "[CV] END ..learning_rate=0.01, max_depth=3, n_estimators=400; total time=   0.4s\n",
            "[CV] END learning_rate=0.0001, max_depth=15, n_estimators=200; total time=   1.0s\n",
            "[CV] END learning_rate=0.0001, max_depth=15, n_estimators=200; total time=   1.0s\n",
            "[CV] END learning_rate=0.0001, max_depth=15, n_estimators=200; total time=   1.1s\n",
            "[CV] END learning_rate=0.0001, max_depth=15, n_estimators=200; total time=   1.1s\n",
            "[CV] END learning_rate=0.0001, max_depth=15, n_estimators=200; total time=   1.2s\n",
            "[CV] END ..learning_rate=0.01, max_depth=3, n_estimators=500; total time=   0.6s\n",
            "[CV] END ..learning_rate=0.01, max_depth=3, n_estimators=500; total time=   0.4s\n",
            "[CV] END ..learning_rate=0.01, max_depth=3, n_estimators=500; total time=   0.4s\n",
            "[CV] END ..learning_rate=0.01, max_depth=3, n_estimators=500; total time=   0.4s\n",
            "[CV] END ..learning_rate=0.01, max_depth=3, n_estimators=500; total time=   0.4s\n",
            "[CV] END learning_rate=0.0001, max_depth=9, n_estimators=200; total time=   0.8s\n",
            "[CV] END learning_rate=0.0001, max_depth=9, n_estimators=200; total time=   0.7s\n",
            "[CV] END learning_rate=0.0001, max_depth=9, n_estimators=200; total time=   0.8s\n",
            "[CV] END learning_rate=0.0001, max_depth=9, n_estimators=200; total time=   0.8s\n",
            "[CV] END learning_rate=0.0001, max_depth=9, n_estimators=200; total time=   0.7s\n",
            "[CV] END .learning_rate=0.001, max_depth=9, n_estimators=400; total time=   1.5s\n",
            "[CV] END .learning_rate=0.001, max_depth=9, n_estimators=400; total time=   1.5s\n",
            "[CV] END .learning_rate=0.001, max_depth=9, n_estimators=400; total time=   1.5s\n",
            "[CV] END .learning_rate=0.001, max_depth=9, n_estimators=400; total time=   1.8s\n",
            "[CV] END .learning_rate=0.001, max_depth=9, n_estimators=400; total time=   1.6s\n",
            "[CV] END learning_rate=0.0001, max_depth=12, n_estimators=200; total time=   0.9s\n",
            "[CV] END learning_rate=0.0001, max_depth=12, n_estimators=200; total time=   1.0s\n",
            "[CV] END learning_rate=0.0001, max_depth=12, n_estimators=200; total time=   1.0s\n",
            "[CV] END learning_rate=0.0001, max_depth=12, n_estimators=200; total time=   1.0s\n",
            "[CV] END learning_rate=0.0001, max_depth=12, n_estimators=200; total time=   1.0s\n",
            "[CV] END learning_rate=0.001, max_depth=15, n_estimators=100; total time=   0.5s\n",
            "[CV] END learning_rate=0.001, max_depth=15, n_estimators=100; total time=   0.5s\n",
            "[CV] END learning_rate=0.001, max_depth=15, n_estimators=100; total time=   0.5s\n",
            "[CV] END learning_rate=0.001, max_depth=15, n_estimators=100; total time=   0.6s\n",
            "[CV] END learning_rate=0.001, max_depth=15, n_estimators=100; total time=   0.5s\n",
            "[CV] END ..learning_rate=0.1, max_depth=15, n_estimators=500; total time=   1.2s\n",
            "[CV] END ..learning_rate=0.1, max_depth=15, n_estimators=500; total time=   1.3s\n",
            "[CV] END ..learning_rate=0.1, max_depth=15, n_estimators=500; total time=   1.3s\n",
            "[CV] END ..learning_rate=0.1, max_depth=15, n_estimators=500; total time=   1.1s\n",
            "[CV] END ..learning_rate=0.1, max_depth=15, n_estimators=500; total time=   1.1s\n",
            "[CV] END ...learning_rate=0.1, max_depth=3, n_estimators=300; total time=   0.3s\n",
            "[CV] END ...learning_rate=0.1, max_depth=3, n_estimators=300; total time=   0.3s\n",
            "[CV] END ...learning_rate=0.1, max_depth=3, n_estimators=300; total time=   0.3s\n",
            "[CV] END ...learning_rate=0.1, max_depth=3, n_estimators=300; total time=   0.3s\n",
            "[CV] END ...learning_rate=0.1, max_depth=3, n_estimators=300; total time=   0.3s\n",
            "[CV] END .learning_rate=0.001, max_depth=9, n_estimators=100; total time=   0.4s\n",
            "[CV] END .learning_rate=0.001, max_depth=9, n_estimators=100; total time=   0.4s\n",
            "[CV] END .learning_rate=0.001, max_depth=9, n_estimators=100; total time=   0.4s\n",
            "[CV] END .learning_rate=0.001, max_depth=9, n_estimators=100; total time=   0.4s\n",
            "[CV] END .learning_rate=0.001, max_depth=9, n_estimators=100; total time=   0.4s\n",
            "[CV] END ..learning_rate=0.1, max_depth=12, n_estimators=300; total time=   0.8s\n",
            "[CV] END ..learning_rate=0.1, max_depth=12, n_estimators=300; total time=   0.8s\n",
            "[CV] END ..learning_rate=0.1, max_depth=12, n_estimators=300; total time=   0.8s\n",
            "[CV] END ..learning_rate=0.1, max_depth=12, n_estimators=300; total time=   0.8s\n",
            "[CV] END ..learning_rate=0.1, max_depth=12, n_estimators=300; total time=   0.8s\n",
            "[CV] END learning_rate=0.0001, max_depth=6, n_estimators=200; total time=   0.5s\n",
            "[CV] END learning_rate=0.0001, max_depth=6, n_estimators=200; total time=   0.6s\n",
            "[CV] END learning_rate=0.0001, max_depth=6, n_estimators=200; total time=   0.5s\n",
            "[CV] END learning_rate=0.0001, max_depth=6, n_estimators=200; total time=   0.5s\n",
            "[CV] END learning_rate=0.0001, max_depth=6, n_estimators=200; total time=   0.4s\n",
            "[CV] END ..learning_rate=0.01, max_depth=9, n_estimators=300; total time=   1.0s\n",
            "[CV] END ..learning_rate=0.01, max_depth=9, n_estimators=300; total time=   1.0s\n",
            "[CV] END ..learning_rate=0.01, max_depth=9, n_estimators=300; total time=   1.0s\n",
            "[CV] END ..learning_rate=0.01, max_depth=9, n_estimators=300; total time=   1.0s\n",
            "[CV] END ..learning_rate=0.01, max_depth=9, n_estimators=300; total time=   1.0s\n",
            "[CV] END learning_rate=0.0001, max_depth=6, n_estimators=300; total time=   0.5s\n",
            "[CV] END learning_rate=0.0001, max_depth=6, n_estimators=300; total time=   0.6s\n",
            "[CV] END learning_rate=0.0001, max_depth=6, n_estimators=300; total time=   0.6s\n",
            "[CV] END learning_rate=0.0001, max_depth=6, n_estimators=300; total time=   0.6s\n",
            "[CV] END learning_rate=0.0001, max_depth=6, n_estimators=300; total time=   0.6s\n",
            "[CV] END .learning_rate=0.01, max_depth=15, n_estimators=500; total time=   2.8s\n",
            "[CV] END .learning_rate=0.01, max_depth=15, n_estimators=500; total time=   2.6s\n",
            "[CV] END .learning_rate=0.01, max_depth=15, n_estimators=500; total time=   2.3s\n",
            "[CV] END .learning_rate=0.01, max_depth=15, n_estimators=500; total time=   2.3s\n",
            "[CV] END .learning_rate=0.01, max_depth=15, n_estimators=500; total time=   2.3s\n",
            "CPU times: user 1min 22s, sys: 555 ms, total: 1min 23s\n",
            "Wall time: 1min 18s\n"
          ]
        },
        {
          "output_type": "execute_result",
          "data": {
            "text/plain": [
              "RandomizedSearchCV(cv=5,\n",
              "                   estimator=XGBClassifier(base_score=None, booster=None,\n",
              "                                           callbacks=None,\n",
              "                                           colsample_bylevel=None,\n",
              "                                           colsample_bynode=None,\n",
              "                                           colsample_bytree=None, device='cuda',\n",
              "                                           early_stopping_rounds=None,\n",
              "                                           enable_categorical=False,\n",
              "                                           eval_metric=None, feature_types=None,\n",
              "                                           gamma=None, grow_policy=None,\n",
              "                                           importance_type=None,\n",
              "                                           interaction_constraints=None,\n",
              "                                           learning_ra...\n",
              "                                           max_delta_step=None, max_depth=None,\n",
              "                                           max_leaves=None,\n",
              "                                           min_child_weight=None, missing=nan,\n",
              "                                           monotone_constraints=None,\n",
              "                                           multi_strategy=None,\n",
              "                                           n_estimators=None, n_jobs=None,\n",
              "                                           nthread=2, num_parallel_tree=None, ...),\n",
              "                   n_iter=20,\n",
              "                   param_distributions={'learning_rate': [0.1, 0.01, 0.001,\n",
              "                                                          0.0001],\n",
              "                                        'max_depth': [3, 6, 9, 12, 15],\n",
              "                                        'n_estimators': [100, 200, 300, 400,\n",
              "                                                         500]},\n",
              "                   random_state=61, scoring='accuracy', verbose=2)"
            ],
            "text/html": [
              "<style>#sk-container-id-2 {color: black;background-color: white;}#sk-container-id-2 pre{padding: 0;}#sk-container-id-2 div.sk-toggleable {background-color: white;}#sk-container-id-2 label.sk-toggleable__label {cursor: pointer;display: block;width: 100%;margin-bottom: 0;padding: 0.3em;box-sizing: border-box;text-align: center;}#sk-container-id-2 label.sk-toggleable__label-arrow:before {content: \"▸\";float: left;margin-right: 0.25em;color: #696969;}#sk-container-id-2 label.sk-toggleable__label-arrow:hover:before {color: black;}#sk-container-id-2 div.sk-estimator:hover label.sk-toggleable__label-arrow:before {color: black;}#sk-container-id-2 div.sk-toggleable__content {max-height: 0;max-width: 0;overflow: hidden;text-align: left;background-color: #f0f8ff;}#sk-container-id-2 div.sk-toggleable__content pre {margin: 0.2em;color: black;border-radius: 0.25em;background-color: #f0f8ff;}#sk-container-id-2 input.sk-toggleable__control:checked~div.sk-toggleable__content {max-height: 200px;max-width: 100%;overflow: auto;}#sk-container-id-2 input.sk-toggleable__control:checked~label.sk-toggleable__label-arrow:before {content: \"▾\";}#sk-container-id-2 div.sk-estimator input.sk-toggleable__control:checked~label.sk-toggleable__label {background-color: #d4ebff;}#sk-container-id-2 div.sk-label input.sk-toggleable__control:checked~label.sk-toggleable__label {background-color: #d4ebff;}#sk-container-id-2 input.sk-hidden--visually {border: 0;clip: rect(1px 1px 1px 1px);clip: rect(1px, 1px, 1px, 1px);height: 1px;margin: -1px;overflow: hidden;padding: 0;position: absolute;width: 1px;}#sk-container-id-2 div.sk-estimator {font-family: monospace;background-color: #f0f8ff;border: 1px dotted black;border-radius: 0.25em;box-sizing: border-box;margin-bottom: 0.5em;}#sk-container-id-2 div.sk-estimator:hover {background-color: #d4ebff;}#sk-container-id-2 div.sk-parallel-item::after {content: \"\";width: 100%;border-bottom: 1px solid gray;flex-grow: 1;}#sk-container-id-2 div.sk-label:hover label.sk-toggleable__label {background-color: #d4ebff;}#sk-container-id-2 div.sk-serial::before {content: \"\";position: absolute;border-left: 1px solid gray;box-sizing: border-box;top: 0;bottom: 0;left: 50%;z-index: 0;}#sk-container-id-2 div.sk-serial {display: flex;flex-direction: column;align-items: center;background-color: white;padding-right: 0.2em;padding-left: 0.2em;position: relative;}#sk-container-id-2 div.sk-item {position: relative;z-index: 1;}#sk-container-id-2 div.sk-parallel {display: flex;align-items: stretch;justify-content: center;background-color: white;position: relative;}#sk-container-id-2 div.sk-item::before, #sk-container-id-2 div.sk-parallel-item::before {content: \"\";position: absolute;border-left: 1px solid gray;box-sizing: border-box;top: 0;bottom: 0;left: 50%;z-index: -1;}#sk-container-id-2 div.sk-parallel-item {display: flex;flex-direction: column;z-index: 1;position: relative;background-color: white;}#sk-container-id-2 div.sk-parallel-item:first-child::after {align-self: flex-end;width: 50%;}#sk-container-id-2 div.sk-parallel-item:last-child::after {align-self: flex-start;width: 50%;}#sk-container-id-2 div.sk-parallel-item:only-child::after {width: 0;}#sk-container-id-2 div.sk-dashed-wrapped {border: 1px dashed gray;margin: 0 0.4em 0.5em 0.4em;box-sizing: border-box;padding-bottom: 0.4em;background-color: white;}#sk-container-id-2 div.sk-label label {font-family: monospace;font-weight: bold;display: inline-block;line-height: 1.2em;}#sk-container-id-2 div.sk-label-container {text-align: center;}#sk-container-id-2 div.sk-container {/* jupyter's `normalize.less` sets `[hidden] { display: none; }` but bootstrap.min.css set `[hidden] { display: none !important; }` so we also need the `!important` here to be able to override the default hidden behavior on the sphinx rendered scikit-learn.org. See: https://github.com/scikit-learn/scikit-learn/issues/21755 */display: inline-block !important;position: relative;}#sk-container-id-2 div.sk-text-repr-fallback {display: none;}</style><div id=\"sk-container-id-2\" class=\"sk-top-container\"><div class=\"sk-text-repr-fallback\"><pre>RandomizedSearchCV(cv=5,\n",
              "                   estimator=XGBClassifier(base_score=None, booster=None,\n",
              "                                           callbacks=None,\n",
              "                                           colsample_bylevel=None,\n",
              "                                           colsample_bynode=None,\n",
              "                                           colsample_bytree=None, device=&#x27;cuda&#x27;,\n",
              "                                           early_stopping_rounds=None,\n",
              "                                           enable_categorical=False,\n",
              "                                           eval_metric=None, feature_types=None,\n",
              "                                           gamma=None, grow_policy=None,\n",
              "                                           importance_type=None,\n",
              "                                           interaction_constraints=None,\n",
              "                                           learning_ra...\n",
              "                                           max_delta_step=None, max_depth=None,\n",
              "                                           max_leaves=None,\n",
              "                                           min_child_weight=None, missing=nan,\n",
              "                                           monotone_constraints=None,\n",
              "                                           multi_strategy=None,\n",
              "                                           n_estimators=None, n_jobs=None,\n",
              "                                           nthread=2, num_parallel_tree=None, ...),\n",
              "                   n_iter=20,\n",
              "                   param_distributions={&#x27;learning_rate&#x27;: [0.1, 0.01, 0.001,\n",
              "                                                          0.0001],\n",
              "                                        &#x27;max_depth&#x27;: [3, 6, 9, 12, 15],\n",
              "                                        &#x27;n_estimators&#x27;: [100, 200, 300, 400,\n",
              "                                                         500]},\n",
              "                   random_state=61, scoring=&#x27;accuracy&#x27;, verbose=2)</pre><b>In a Jupyter environment, please rerun this cell to show the HTML representation or trust the notebook. <br />On GitHub, the HTML representation is unable to render, please try loading this page with nbviewer.org.</b></div><div class=\"sk-container\" hidden><div class=\"sk-item sk-dashed-wrapped\"><div class=\"sk-label-container\"><div class=\"sk-label sk-toggleable\"><input class=\"sk-toggleable__control sk-hidden--visually\" id=\"sk-estimator-id-4\" type=\"checkbox\" ><label for=\"sk-estimator-id-4\" class=\"sk-toggleable__label sk-toggleable__label-arrow\">RandomizedSearchCV</label><div class=\"sk-toggleable__content\"><pre>RandomizedSearchCV(cv=5,\n",
              "                   estimator=XGBClassifier(base_score=None, booster=None,\n",
              "                                           callbacks=None,\n",
              "                                           colsample_bylevel=None,\n",
              "                                           colsample_bynode=None,\n",
              "                                           colsample_bytree=None, device=&#x27;cuda&#x27;,\n",
              "                                           early_stopping_rounds=None,\n",
              "                                           enable_categorical=False,\n",
              "                                           eval_metric=None, feature_types=None,\n",
              "                                           gamma=None, grow_policy=None,\n",
              "                                           importance_type=None,\n",
              "                                           interaction_constraints=None,\n",
              "                                           learning_ra...\n",
              "                                           max_delta_step=None, max_depth=None,\n",
              "                                           max_leaves=None,\n",
              "                                           min_child_weight=None, missing=nan,\n",
              "                                           monotone_constraints=None,\n",
              "                                           multi_strategy=None,\n",
              "                                           n_estimators=None, n_jobs=None,\n",
              "                                           nthread=2, num_parallel_tree=None, ...),\n",
              "                   n_iter=20,\n",
              "                   param_distributions={&#x27;learning_rate&#x27;: [0.1, 0.01, 0.001,\n",
              "                                                          0.0001],\n",
              "                                        &#x27;max_depth&#x27;: [3, 6, 9, 12, 15],\n",
              "                                        &#x27;n_estimators&#x27;: [100, 200, 300, 400,\n",
              "                                                         500]},\n",
              "                   random_state=61, scoring=&#x27;accuracy&#x27;, verbose=2)</pre></div></div></div><div class=\"sk-parallel\"><div class=\"sk-parallel-item\"><div class=\"sk-item\"><div class=\"sk-label-container\"><div class=\"sk-label sk-toggleable\"><input class=\"sk-toggleable__control sk-hidden--visually\" id=\"sk-estimator-id-5\" type=\"checkbox\" ><label for=\"sk-estimator-id-5\" class=\"sk-toggleable__label sk-toggleable__label-arrow\">estimator: XGBClassifier</label><div class=\"sk-toggleable__content\"><pre>XGBClassifier(base_score=None, booster=None, callbacks=None,\n",
              "              colsample_bylevel=None, colsample_bynode=None,\n",
              "              colsample_bytree=None, device=&#x27;cuda&#x27;, early_stopping_rounds=None,\n",
              "              enable_categorical=False, eval_metric=None, feature_types=None,\n",
              "              gamma=None, grow_policy=None, importance_type=None,\n",
              "              interaction_constraints=None, learning_rate=None, max_bin=64,\n",
              "              max_cat_threshold=None, max_cat_to_onehot=None,\n",
              "              max_delta_step=None, max_depth=None, max_leaves=None,\n",
              "              min_child_weight=None, missing=nan, monotone_constraints=None,\n",
              "              multi_strategy=None, n_estimators=None, n_jobs=None, nthread=2,\n",
              "              num_parallel_tree=None, ...)</pre></div></div></div><div class=\"sk-serial\"><div class=\"sk-item\"><div class=\"sk-estimator sk-toggleable\"><input class=\"sk-toggleable__control sk-hidden--visually\" id=\"sk-estimator-id-6\" type=\"checkbox\" ><label for=\"sk-estimator-id-6\" class=\"sk-toggleable__label sk-toggleable__label-arrow\">XGBClassifier</label><div class=\"sk-toggleable__content\"><pre>XGBClassifier(base_score=None, booster=None, callbacks=None,\n",
              "              colsample_bylevel=None, colsample_bynode=None,\n",
              "              colsample_bytree=None, device=&#x27;cuda&#x27;, early_stopping_rounds=None,\n",
              "              enable_categorical=False, eval_metric=None, feature_types=None,\n",
              "              gamma=None, grow_policy=None, importance_type=None,\n",
              "              interaction_constraints=None, learning_rate=None, max_bin=64,\n",
              "              max_cat_threshold=None, max_cat_to_onehot=None,\n",
              "              max_delta_step=None, max_depth=None, max_leaves=None,\n",
              "              min_child_weight=None, missing=nan, monotone_constraints=None,\n",
              "              multi_strategy=None, n_estimators=None, n_jobs=None, nthread=2,\n",
              "              num_parallel_tree=None, ...)</pre></div></div></div></div></div></div></div></div></div></div>"
            ]
          },
          "metadata": {},
          "execution_count": 11
        }
      ]
    },
    {
      "cell_type": "code",
      "source": [
        "print(\"Random Search Best Parameters:\", random_search_xgb.best_params_)\n",
        "print(\"Random Search Best Accuracy:\", random_search_xgb.best_score_)"
      ],
      "metadata": {
        "colab": {
          "base_uri": "https://localhost:8080/"
        },
        "id": "0jnbdJwESFZM",
        "outputId": "6b3f3911-e92b-44a0-84f6-fd9559dd73c9"
      },
      "execution_count": null,
      "outputs": [
        {
          "output_type": "stream",
          "name": "stdout",
          "text": [
            "Random Search Best Parameters: {'n_estimators': 500, 'max_depth': 15, 'learning_rate': 0.1}\n",
            "Random Search Best Accuracy: 0.9546250000000001\n"
          ]
        }
      ]
    },
    {
      "cell_type": "code",
      "source": [
        "# Evaluate the final tuned model from random search on the test set\n",
        "final_model_xgb_random = random_search_xgb.best_estimator_\n",
        "test_accuracy_xgb_random = final_model_xgb_random.score(X_test, y_test)\n",
        "print(\"Final Model (Random Search) Test Accuracy:\", test_accuracy_xgb_random)"
      ],
      "metadata": {
        "colab": {
          "base_uri": "https://localhost:8080/"
        },
        "id": "Sv6pp3y_4F2F",
        "outputId": "e663341a-7f1d-45d9-e23e-fd6f3d0a59f3"
      },
      "execution_count": null,
      "outputs": [
        {
          "output_type": "stream",
          "name": "stdout",
          "text": [
            "Final Model (Random Search) Test Accuracy: 0.966\n"
          ]
        }
      ]
    },
    {
      "cell_type": "code",
      "source": [
        "# Bayesian optimization\n",
        "%%time\n",
        "trials_xgb = Trials()\n",
        "best_xgb = fmin(objective_xgb, space_xgb, algo=tpe.suggest, max_evals=50, trials=trials_xgb, show_progressbar=True, rstate=np.random.default_rng(random_state))"
      ],
      "metadata": {
        "colab": {
          "base_uri": "https://localhost:8080/"
        },
        "id": "zKllBt0H4xjp",
        "outputId": "41ae2ca6-1055-4d49-a9bf-8261dc26d5e4"
      },
      "execution_count": null,
      "outputs": [
        {
          "output_type": "stream",
          "name": "stdout",
          "text": [
            "100%|██████████| 50/50 [05:12<00:00,  6.25s/trial, best loss: -0.954375]\n",
            "CPU times: user 5min 18s, sys: 1.8 s, total: 5min 19s\n",
            "Wall time: 5min 12s\n"
          ]
        }
      ]
    },
    {
      "cell_type": "code",
      "source": [
        "print(\"Bayesian optimization Best Parameters:\", best_xgb)"
      ],
      "metadata": {
        "colab": {
          "base_uri": "https://localhost:8080/"
        },
        "id": "PpU0_WuZBhva",
        "outputId": "1b9fed4c-c726-4d95-d4d6-cb3d25b7c074"
      },
      "execution_count": null,
      "outputs": [
        {
          "output_type": "stream",
          "name": "stdout",
          "text": [
            "Bayesian optimization Best Parameters: {'learning_rate': 0.06387345052193515, 'max_depth': 9, 'n_estimators': 437}\n"
          ]
        }
      ]
    },
    {
      "cell_type": "code",
      "source": [
        "# Get the best hyperparameters found during optimization\n",
        "best_params_xgb = space_eval(space_xgb, best_xgb)\n",
        "\n",
        "# Train a new model with the best hyperparameters on the full training set\n",
        "final_model_xgb_bayesian = xgb.XGBClassifier(**best_params_xgb, random_state=random_state)\n",
        "final_model_xgb_bayesian.fit(X_train, y_train)\n",
        "\n",
        "# Evaluate the best model on the test set\n",
        "test_predictions_xgb = final_model_xgb_bayesian.predict(X_test)\n",
        "test_accuracy_xgb = accuracy_score(y_test, test_predictions_xgb)\n",
        "print(\"Test Accuracy (Bayesian Optimization):\", test_accuracy_xgb)"
      ],
      "metadata": {
        "id": "b2WIjm1f4xts",
        "colab": {
          "base_uri": "https://localhost:8080/"
        },
        "outputId": "ff035adf-084f-419e-ede2-00fed5498df4"
      },
      "execution_count": null,
      "outputs": [
        {
          "output_type": "stream",
          "name": "stdout",
          "text": [
            "Test Accuracy (Bayesian Optimization): 0.9655\n"
          ]
        }
      ]
    },
    {
      "cell_type": "code",
      "source": [
        "#bayesian with less attempts\n",
        "%%time\n",
        "trials_xgb2 = Trials()\n",
        "best_xgb2 = fmin(objective_xgb, space_xgb, algo=tpe.suggest, max_evals=20, trials=trials_xgb2, show_progressbar=True, rstate=np.random.default_rng(random_state))"
      ],
      "metadata": {
        "id": "HrXYjOoYHtdm",
        "colab": {
          "base_uri": "https://localhost:8080/"
        },
        "outputId": "f29027bc-b008-4779-e642-6263098fb108"
      },
      "execution_count": null,
      "outputs": [
        {
          "output_type": "stream",
          "name": "stdout",
          "text": [
            "100%|██████████| 20/20 [02:10<00:00,  6.54s/trial, best loss: -0.952]\n",
            "CPU times: user 2min 14s, sys: 715 ms, total: 2min 14s\n",
            "Wall time: 2min 10s\n"
          ]
        }
      ]
    },
    {
      "cell_type": "code",
      "source": [
        "print(\"Bayesian optimization Best Parameters:\", best_xgb2)"
      ],
      "metadata": {
        "colab": {
          "base_uri": "https://localhost:8080/"
        },
        "id": "duZ02vs7F4x_",
        "outputId": "73960a19-b9f4-49cb-dd20-511984395a3b"
      },
      "execution_count": null,
      "outputs": [
        {
          "output_type": "stream",
          "name": "stdout",
          "text": [
            "Bayesian optimization Best Parameters: {'learning_rate': 0.029929252719907394, 'max_depth': 9, 'n_estimators': 443}\n"
          ]
        }
      ]
    },
    {
      "cell_type": "code",
      "source": [
        "# Get the best hyperparameters found during optimization\n",
        "best_params_xgb2 = space_eval(space_xgb, best_xgb2)\n",
        "\n",
        "# Train a new model with the best hyperparameters on the full training set\n",
        "final_model_xgb_bayesian2 = xgb.XGBClassifier(**best_params_xgb2, random_state=random_state)\n",
        "final_model_xgb_bayesian2.fit(X_train, y_train)\n",
        "\n",
        "# Evaluate the best model on the test set\n",
        "test_predictions_xgb2 = final_model_xgb_bayesian2.predict(X_test)\n",
        "test_accuracy_xgb2 = accuracy_score(y_test, test_predictions_xgb2)\n",
        "print(\"Test Accuracy (Bayesian Optimization):\", test_accuracy_xgb2)"
      ],
      "metadata": {
        "id": "WXAo1C1-tbBA",
        "colab": {
          "base_uri": "https://localhost:8080/"
        },
        "outputId": "1733b92c-e108-4b27-f9fa-4224f41b8f1b"
      },
      "execution_count": null,
      "outputs": [
        {
          "output_type": "stream",
          "name": "stdout",
          "text": [
            "Test Accuracy (Bayesian Optimization): 0.964\n"
          ]
        }
      ]
    },
    {
      "cell_type": "markdown",
      "source": [
        "RIDGE REGRESSION"
      ],
      "metadata": {
        "id": "hMBca5Hrp4zR"
      }
    },
    {
      "cell_type": "code",
      "source": [
        "# Standardize features\n",
        "scaler = StandardScaler()\n",
        "X_train_scaled = scaler.fit_transform(X_train)\n",
        "X_test_scaled = scaler.transform(X_test)"
      ],
      "metadata": {
        "id": "MzJu9p1RHtg_"
      },
      "execution_count": null,
      "outputs": []
    },
    {
      "cell_type": "code",
      "source": [
        "# Define the RidgeClassifier model\n",
        "ridge_clf = RidgeClassifier()"
      ],
      "metadata": {
        "id": "4S-_8iYIrQkr"
      },
      "execution_count": null,
      "outputs": []
    },
    {
      "cell_type": "code",
      "source": [
        "# Define the grid of hyperparameters to search over for grid search\n",
        "param_grid_ridge = {\n",
        "    'alpha': [0.01, 0.1, 1.0, 10.0, 100.0, 1000.0]\n",
        "}\n",
        "\n",
        "# Define the search space for hyperparameters for bayesian opt\n",
        "space_ridge = {\n",
        "    'alpha': hp.loguniform('alpha', np.log(0.01), np.log(1000))  # Log-uniform distribution for alpha\n",
        "}\n",
        "\n",
        "# Define the objective function to minimize (negative accuracy for maximization)\n",
        "def objective_ridge(params):\n",
        "    alpha = params['alpha']\n",
        "    model = RidgeClassifier(alpha=alpha)\n",
        "    model.fit(X_train_scaled, y_train)\n",
        "    y_pred = model.predict(X_test_scaled)\n",
        "    score = cross_val_score(model, X_train_scaled, y_train, cv=5, scoring='accuracy').mean()\n",
        "    return -score\n",
        "\n",
        "\n",
        "\n"
      ],
      "metadata": {
        "id": "4qrZFzPZrQen"
      },
      "execution_count": null,
      "outputs": []
    },
    {
      "cell_type": "code",
      "source": [
        "# grid search"
      ],
      "metadata": {
        "id": "5U14MroprQZM"
      },
      "execution_count": null,
      "outputs": []
    },
    {
      "cell_type": "code",
      "source": [
        "# Set up the GridSearchCV with 5-fold cross-validation\n",
        "%%time\n",
        "grid_search_ridge = GridSearchCV(estimator=ridge_clf, param_grid=param_grid_ridge, cv=5, scoring='accuracy')\n",
        "\n",
        "# Perform grid search on the training data\n",
        "grid_search_ridge.fit(X_train_scaled, y_train)\n",
        "\n"
      ],
      "metadata": {
        "colab": {
          "base_uri": "https://localhost:8080/",
          "height": 149
        },
        "id": "pcdhiUGxrQP-",
        "outputId": "d44855ef-a290-4b4a-bfa9-243c549f527c"
      },
      "execution_count": null,
      "outputs": [
        {
          "output_type": "stream",
          "name": "stdout",
          "text": [
            "CPU times: user 264 ms, sys: 208 ms, total: 472 ms\n",
            "Wall time: 267 ms\n"
          ]
        },
        {
          "output_type": "execute_result",
          "data": {
            "text/plain": [
              "GridSearchCV(cv=5, estimator=RidgeClassifier(),\n",
              "             param_grid={'alpha': [0.01, 0.1, 1.0, 10.0, 100.0, 1000.0]},\n",
              "             scoring='accuracy')"
            ],
            "text/html": [
              "<style>#sk-container-id-3 {color: black;background-color: white;}#sk-container-id-3 pre{padding: 0;}#sk-container-id-3 div.sk-toggleable {background-color: white;}#sk-container-id-3 label.sk-toggleable__label {cursor: pointer;display: block;width: 100%;margin-bottom: 0;padding: 0.3em;box-sizing: border-box;text-align: center;}#sk-container-id-3 label.sk-toggleable__label-arrow:before {content: \"▸\";float: left;margin-right: 0.25em;color: #696969;}#sk-container-id-3 label.sk-toggleable__label-arrow:hover:before {color: black;}#sk-container-id-3 div.sk-estimator:hover label.sk-toggleable__label-arrow:before {color: black;}#sk-container-id-3 div.sk-toggleable__content {max-height: 0;max-width: 0;overflow: hidden;text-align: left;background-color: #f0f8ff;}#sk-container-id-3 div.sk-toggleable__content pre {margin: 0.2em;color: black;border-radius: 0.25em;background-color: #f0f8ff;}#sk-container-id-3 input.sk-toggleable__control:checked~div.sk-toggleable__content {max-height: 200px;max-width: 100%;overflow: auto;}#sk-container-id-3 input.sk-toggleable__control:checked~label.sk-toggleable__label-arrow:before {content: \"▾\";}#sk-container-id-3 div.sk-estimator input.sk-toggleable__control:checked~label.sk-toggleable__label {background-color: #d4ebff;}#sk-container-id-3 div.sk-label input.sk-toggleable__control:checked~label.sk-toggleable__label {background-color: #d4ebff;}#sk-container-id-3 input.sk-hidden--visually {border: 0;clip: rect(1px 1px 1px 1px);clip: rect(1px, 1px, 1px, 1px);height: 1px;margin: -1px;overflow: hidden;padding: 0;position: absolute;width: 1px;}#sk-container-id-3 div.sk-estimator {font-family: monospace;background-color: #f0f8ff;border: 1px dotted black;border-radius: 0.25em;box-sizing: border-box;margin-bottom: 0.5em;}#sk-container-id-3 div.sk-estimator:hover {background-color: #d4ebff;}#sk-container-id-3 div.sk-parallel-item::after {content: \"\";width: 100%;border-bottom: 1px solid gray;flex-grow: 1;}#sk-container-id-3 div.sk-label:hover label.sk-toggleable__label {background-color: #d4ebff;}#sk-container-id-3 div.sk-serial::before {content: \"\";position: absolute;border-left: 1px solid gray;box-sizing: border-box;top: 0;bottom: 0;left: 50%;z-index: 0;}#sk-container-id-3 div.sk-serial {display: flex;flex-direction: column;align-items: center;background-color: white;padding-right: 0.2em;padding-left: 0.2em;position: relative;}#sk-container-id-3 div.sk-item {position: relative;z-index: 1;}#sk-container-id-3 div.sk-parallel {display: flex;align-items: stretch;justify-content: center;background-color: white;position: relative;}#sk-container-id-3 div.sk-item::before, #sk-container-id-3 div.sk-parallel-item::before {content: \"\";position: absolute;border-left: 1px solid gray;box-sizing: border-box;top: 0;bottom: 0;left: 50%;z-index: -1;}#sk-container-id-3 div.sk-parallel-item {display: flex;flex-direction: column;z-index: 1;position: relative;background-color: white;}#sk-container-id-3 div.sk-parallel-item:first-child::after {align-self: flex-end;width: 50%;}#sk-container-id-3 div.sk-parallel-item:last-child::after {align-self: flex-start;width: 50%;}#sk-container-id-3 div.sk-parallel-item:only-child::after {width: 0;}#sk-container-id-3 div.sk-dashed-wrapped {border: 1px dashed gray;margin: 0 0.4em 0.5em 0.4em;box-sizing: border-box;padding-bottom: 0.4em;background-color: white;}#sk-container-id-3 div.sk-label label {font-family: monospace;font-weight: bold;display: inline-block;line-height: 1.2em;}#sk-container-id-3 div.sk-label-container {text-align: center;}#sk-container-id-3 div.sk-container {/* jupyter's `normalize.less` sets `[hidden] { display: none; }` but bootstrap.min.css set `[hidden] { display: none !important; }` so we also need the `!important` here to be able to override the default hidden behavior on the sphinx rendered scikit-learn.org. See: https://github.com/scikit-learn/scikit-learn/issues/21755 */display: inline-block !important;position: relative;}#sk-container-id-3 div.sk-text-repr-fallback {display: none;}</style><div id=\"sk-container-id-3\" class=\"sk-top-container\"><div class=\"sk-text-repr-fallback\"><pre>GridSearchCV(cv=5, estimator=RidgeClassifier(),\n",
              "             param_grid={&#x27;alpha&#x27;: [0.01, 0.1, 1.0, 10.0, 100.0, 1000.0]},\n",
              "             scoring=&#x27;accuracy&#x27;)</pre><b>In a Jupyter environment, please rerun this cell to show the HTML representation or trust the notebook. <br />On GitHub, the HTML representation is unable to render, please try loading this page with nbviewer.org.</b></div><div class=\"sk-container\" hidden><div class=\"sk-item sk-dashed-wrapped\"><div class=\"sk-label-container\"><div class=\"sk-label sk-toggleable\"><input class=\"sk-toggleable__control sk-hidden--visually\" id=\"sk-estimator-id-7\" type=\"checkbox\" ><label for=\"sk-estimator-id-7\" class=\"sk-toggleable__label sk-toggleable__label-arrow\">GridSearchCV</label><div class=\"sk-toggleable__content\"><pre>GridSearchCV(cv=5, estimator=RidgeClassifier(),\n",
              "             param_grid={&#x27;alpha&#x27;: [0.01, 0.1, 1.0, 10.0, 100.0, 1000.0]},\n",
              "             scoring=&#x27;accuracy&#x27;)</pre></div></div></div><div class=\"sk-parallel\"><div class=\"sk-parallel-item\"><div class=\"sk-item\"><div class=\"sk-label-container\"><div class=\"sk-label sk-toggleable\"><input class=\"sk-toggleable__control sk-hidden--visually\" id=\"sk-estimator-id-8\" type=\"checkbox\" ><label for=\"sk-estimator-id-8\" class=\"sk-toggleable__label sk-toggleable__label-arrow\">estimator: RidgeClassifier</label><div class=\"sk-toggleable__content\"><pre>RidgeClassifier()</pre></div></div></div><div class=\"sk-serial\"><div class=\"sk-item\"><div class=\"sk-estimator sk-toggleable\"><input class=\"sk-toggleable__control sk-hidden--visually\" id=\"sk-estimator-id-9\" type=\"checkbox\" ><label for=\"sk-estimator-id-9\" class=\"sk-toggleable__label sk-toggleable__label-arrow\">RidgeClassifier</label><div class=\"sk-toggleable__content\"><pre>RidgeClassifier()</pre></div></div></div></div></div></div></div></div></div></div>"
            ]
          },
          "metadata": {},
          "execution_count": 23
        }
      ]
    },
    {
      "cell_type": "code",
      "source": [
        "# Get the best model and its hyperparameters\n",
        "best_model_ridge = grid_search_ridge.best_estimator_\n",
        "best_params_ridge = grid_search_ridge.best_params_\n",
        "print(\"Best Parameters:\", best_params_ridge)"
      ],
      "metadata": {
        "colab": {
          "base_uri": "https://localhost:8080/"
        },
        "id": "8zg8hp9rSTvS",
        "outputId": "d534d7fa-c538-44cc-caf9-eed80bc4aa96"
      },
      "execution_count": null,
      "outputs": [
        {
          "output_type": "stream",
          "name": "stdout",
          "text": [
            "Best Parameters: {'alpha': 0.01}\n"
          ]
        }
      ]
    },
    {
      "cell_type": "code",
      "source": [
        "# Predict on the test set using the best model\n",
        "y_pred_ridge = best_model_ridge.predict(X_test_scaled)\n",
        "\n",
        "# Evaluate accuracy\n",
        "accuracy_ridge = accuracy_score(y_test, y_pred_ridge)\n",
        "print(\"Test Accuracy:\", accuracy_ridge)"
      ],
      "metadata": {
        "colab": {
          "base_uri": "https://localhost:8080/"
        },
        "id": "XVmDOmPJrQEU",
        "outputId": "481b0458-ed49-413e-e967-2320c40e1ea2"
      },
      "execution_count": null,
      "outputs": [
        {
          "output_type": "stream",
          "name": "stdout",
          "text": [
            "Test Accuracy: 0.8505\n"
          ]
        }
      ]
    },
    {
      "cell_type": "code",
      "source": [
        "# Bayesian optimization"
      ],
      "metadata": {
        "id": "GQdsgT_hHtkl"
      },
      "execution_count": null,
      "outputs": []
    },
    {
      "cell_type": "code",
      "source": [
        "# Set up the Trials object\n",
        "%%time\n",
        "trials_ridge = Trials()\n",
        "# Perform Bayesian optimization using hyperopt\n",
        "best_params_ridge = fmin(fn=objective_ridge, space=space_ridge, algo=tpe.suggest, max_evals=100, trials=trials_ridge, show_progressbar=True, rstate=np.random.default_rng(random_state))\n",
        "\n"
      ],
      "metadata": {
        "colab": {
          "base_uri": "https://localhost:8080/"
        },
        "id": "YZm3GhLeuoEq",
        "outputId": "26ab0ee2-27bc-497c-dff5-3f5c69045335"
      },
      "execution_count": null,
      "outputs": [
        {
          "output_type": "stream",
          "name": "stdout",
          "text": [
            "100%|██████████| 100/100 [00:05<00:00, 17.95trial/s, best loss: -0.8487500000000001]\n",
            "CPU times: user 5.95 s, sys: 4.5 s, total: 10.5 s\n",
            "Wall time: 5.58 s\n"
          ]
        }
      ]
    },
    {
      "cell_type": "code",
      "source": [
        "# Retrieve the best hyperparameters\n",
        "best_alpha_ridge = best_params_ridge['alpha']\n",
        "print(\"Best alpha:\", best_alpha_ridge)"
      ],
      "metadata": {
        "colab": {
          "base_uri": "https://localhost:8080/"
        },
        "id": "uZizmzxFSYsj",
        "outputId": "ad36fc42-e2aa-469d-a0e5-eb0e82f9fcaf"
      },
      "execution_count": null,
      "outputs": [
        {
          "output_type": "stream",
          "name": "stdout",
          "text": [
            "Best alpha: 46.26579490027193\n"
          ]
        }
      ]
    },
    {
      "cell_type": "code",
      "source": [
        "# Train the final model with the best hyperparameters\n",
        "best_model_bay_ridge = RidgeClassifier(alpha=best_alpha_ridge)\n",
        "best_model_bay_ridge.fit(X_train_scaled, y_train)\n",
        "\n",
        "# Evaluate the final model on the test set\n",
        "y_pred_bay_ridge = best_model_bay_ridge.predict(X_test_scaled)\n",
        "accuracy_bay_ridge = accuracy_score(y_test, y_pred_bay_ridge)\n",
        "print(\"Test Accuracy:\", accuracy_bay_ridge)"
      ],
      "metadata": {
        "colab": {
          "base_uri": "https://localhost:8080/"
        },
        "id": "gZSA3NkbuoBW",
        "outputId": "380ee7fe-1ac5-40fd-f335-53c28cb0ad1a"
      },
      "execution_count": null,
      "outputs": [
        {
          "output_type": "stream",
          "name": "stdout",
          "text": [
            "Test Accuracy: 0.851\n"
          ]
        }
      ]
    },
    {
      "cell_type": "markdown",
      "source": [
        "NEURAL NETWORKS"
      ],
      "metadata": {
        "id": "g-xtI4MCGla7"
      }
    },
    {
      "cell_type": "code",
      "source": [
        "X_train, X_test = torch.tensor(X_train).float(), torch.tensor(X_test).float()\n",
        "y_train, y_test = torch.tensor(y_train).long(), torch.tensor(y_test).long()\n"
      ],
      "metadata": {
        "id": "GbguRWPVGi8A"
      },
      "execution_count": null,
      "outputs": []
    },
    {
      "cell_type": "code",
      "source": [
        "class NeuralNetwork(nn.Module):\n",
        "    def __init__(self, input_dim, hidden_dim, output_dim):\n",
        "        super(NeuralNetwork, self).__init__()\n",
        "        self.fc1 = nn.Linear(input_dim, hidden_dim)\n",
        "        self.relu = nn.ReLU()\n",
        "        self.fc2 = nn.Linear(hidden_dim, output_dim)\n",
        "\n",
        "    def forward(self, x):\n",
        "        x = self.fc1(x)\n",
        "        x = self.relu(x)\n",
        "        x = self.fc2(x)\n",
        "        return x\n"
      ],
      "metadata": {
        "id": "wHVaoJnEGi-j"
      },
      "execution_count": null,
      "outputs": []
    },
    {
      "cell_type": "code",
      "source": [
        "def objective(trial):\n",
        "    # Sample hyperparameters to optimize\n",
        "    hidden_dim = trial.suggest_int('hidden_dim', 32, 256)\n",
        "    lr = trial.suggest_loguniform('lr', 1e-4, 1e-2)\n",
        "    batch_size = trial.suggest_categorical('batch_size', [32, 64, 128])\n",
        "\n",
        "    # Create data loaders\n",
        "    train_dataset = TensorDataset(X_train, y_train)\n",
        "    train_loader = DataLoader(train_dataset, batch_size=batch_size, shuffle=True)\n",
        "\n",
        "    # Initialize model and optimizer\n",
        "    model = NeuralNetwork(input_dim=n_features, hidden_dim=hidden_dim, output_dim=2)\n",
        "    optimizer = optim.Adam(model.parameters(), lr=lr)\n",
        "    criterion = nn.CrossEntropyLoss()\n",
        "\n",
        "    # Training loop\n",
        "    num_epochs = 10\n",
        "    for epoch in range(num_epochs):\n",
        "        model.train()\n",
        "        for batch_X, batch_y in train_loader:\n",
        "            optimizer.zero_grad()\n",
        "            output = model(batch_X)\n",
        "            loss = criterion(output, batch_y)\n",
        "            loss.backward()\n",
        "            optimizer.step()\n",
        "\n",
        "    # Evaluate on validation set\n",
        "    model.eval()\n",
        "    with torch.no_grad():\n",
        "        y_pred = model(X_test)\n",
        "        _, predicted = torch.max(y_pred, 1)\n",
        "        accuracy = (predicted == y_test).sum().item() / len(y_test)\n",
        "\n",
        "    return accuracy"
      ],
      "metadata": {
        "id": "pKDtk7m0GjBS"
      },
      "execution_count": null,
      "outputs": []
    },
    {
      "cell_type": "code",
      "source": [
        "#random search\n",
        "%%time\n",
        "study = optuna.create_study(direction='maximize')\n",
        "study.optimize(objective, n_trials=50)"
      ],
      "metadata": {
        "colab": {
          "base_uri": "https://localhost:8080/"
        },
        "id": "o41zZgg8GjDx",
        "outputId": "c886281a-3612-4e36-e8b4-996f268398d7"
      },
      "execution_count": null,
      "outputs": [
        {
          "output_type": "stream",
          "name": "stderr",
          "text": [
            "[I 2024-04-18 16:49:01,639] A new study created in memory with name: no-name-b28659c9-f4f7-48d9-ab77-1ea0c094b167\n",
            "<ipython-input-31-bb6daa89334a>:4: FutureWarning: suggest_loguniform has been deprecated in v3.0.0. This feature will be removed in v6.0.0. See https://github.com/optuna/optuna/releases/tag/v3.0.0. Use suggest_float(..., log=True) instead.\n",
            "  lr = trial.suggest_loguniform('lr', 1e-4, 1e-2)\n",
            "[I 2024-04-18 16:49:08,154] Trial 0 finished with value: 0.967 and parameters: {'hidden_dim': 193, 'lr': 0.0006560966716344451, 'batch_size': 32}. Best is trial 0 with value: 0.967.\n",
            "<ipython-input-31-bb6daa89334a>:4: FutureWarning: suggest_loguniform has been deprecated in v3.0.0. This feature will be removed in v6.0.0. See https://github.com/optuna/optuna/releases/tag/v3.0.0. Use suggest_float(..., log=True) instead.\n",
            "  lr = trial.suggest_loguniform('lr', 1e-4, 1e-2)\n",
            "[I 2024-04-18 16:49:10,547] Trial 1 finished with value: 0.9595 and parameters: {'hidden_dim': 76, 'lr': 0.005201897434103237, 'batch_size': 64}. Best is trial 0 with value: 0.967.\n",
            "[I 2024-04-18 16:49:11,792] Trial 2 finished with value: 0.949 and parameters: {'hidden_dim': 53, 'lr': 0.000765079135413452, 'batch_size': 128}. Best is trial 0 with value: 0.967.\n",
            "[I 2024-04-18 16:49:13,050] Trial 3 finished with value: 0.9585 and parameters: {'hidden_dim': 126, 'lr': 0.0009166491536694051, 'batch_size': 128}. Best is trial 0 with value: 0.967.\n",
            "[I 2024-04-18 16:49:16,372] Trial 4 finished with value: 0.9645 and parameters: {'hidden_dim': 66, 'lr': 0.0012958854545947278, 'batch_size': 32}. Best is trial 0 with value: 0.967.\n",
            "[I 2024-04-18 16:49:17,665] Trial 5 finished with value: 0.918 and parameters: {'hidden_dim': 222, 'lr': 0.0001132725991108361, 'batch_size': 128}. Best is trial 0 with value: 0.967.\n",
            "[I 2024-04-18 16:49:19,658] Trial 6 finished with value: 0.9485 and parameters: {'hidden_dim': 73, 'lr': 0.00035860676032994633, 'batch_size': 64}. Best is trial 0 with value: 0.967.\n",
            "[I 2024-04-18 16:49:22,326] Trial 7 finished with value: 0.963 and parameters: {'hidden_dim': 117, 'lr': 0.001956318060718512, 'batch_size': 64}. Best is trial 0 with value: 0.967.\n",
            "[I 2024-04-18 16:49:24,287] Trial 8 finished with value: 0.9385 and parameters: {'hidden_dim': 69, 'lr': 0.00022703275910570034, 'batch_size': 64}. Best is trial 0 with value: 0.967.\n",
            "[I 2024-04-18 16:49:27,698] Trial 9 finished with value: 0.9605 and parameters: {'hidden_dim': 232, 'lr': 0.00023430167877720352, 'batch_size': 32}. Best is trial 0 with value: 0.967.\n",
            "[I 2024-04-18 16:49:31,819] Trial 10 finished with value: 0.9635 and parameters: {'hidden_dim': 184, 'lr': 0.00730092002885627, 'batch_size': 32}. Best is trial 0 with value: 0.967.\n",
            "[I 2024-04-18 16:49:36,030] Trial 11 finished with value: 0.963 and parameters: {'hidden_dim': 173, 'lr': 0.0018670356798000606, 'batch_size': 32}. Best is trial 0 with value: 0.967.\n",
            "[I 2024-04-18 16:49:39,488] Trial 12 finished with value: 0.959 and parameters: {'hidden_dim': 168, 'lr': 0.0022028606322123077, 'batch_size': 32}. Best is trial 0 with value: 0.967.\n",
            "[I 2024-04-18 16:49:43,032] Trial 13 finished with value: 0.964 and parameters: {'hidden_dim': 254, 'lr': 0.000532381772837897, 'batch_size': 32}. Best is trial 0 with value: 0.967.\n",
            "[I 2024-04-18 16:49:47,110] Trial 14 finished with value: 0.9605 and parameters: {'hidden_dim': 32, 'lr': 0.0014051210458865466, 'batch_size': 32}. Best is trial 0 with value: 0.967.\n",
            "[I 2024-04-18 16:49:51,200] Trial 15 finished with value: 0.96 and parameters: {'hidden_dim': 105, 'lr': 0.0029002978921708685, 'batch_size': 32}. Best is trial 0 with value: 0.967.\n",
            "[I 2024-04-18 16:49:54,606] Trial 16 finished with value: 0.9645 and parameters: {'hidden_dim': 208, 'lr': 0.0005486731243399872, 'batch_size': 32}. Best is trial 0 with value: 0.967.\n",
            "[I 2024-04-18 16:49:58,468] Trial 17 finished with value: 0.958 and parameters: {'hidden_dim': 139, 'lr': 0.0010602031807334833, 'batch_size': 32}. Best is trial 0 with value: 0.967.\n",
            "[I 2024-04-18 16:50:02,240] Trial 18 finished with value: 0.9585 and parameters: {'hidden_dim': 155, 'lr': 0.0036041566374677815, 'batch_size': 32}. Best is trial 0 with value: 0.967.\n",
            "[I 2024-04-18 16:50:03,548] Trial 19 finished with value: 0.95 and parameters: {'hidden_dim': 196, 'lr': 0.0003321996275362216, 'batch_size': 128}. Best is trial 0 with value: 0.967.\n",
            "[I 2024-04-18 16:50:06,957] Trial 20 finished with value: 0.935 and parameters: {'hidden_dim': 96, 'lr': 0.00011312291000013294, 'batch_size': 32}. Best is trial 0 with value: 0.967.\n",
            "[I 2024-04-18 16:50:10,837] Trial 21 finished with value: 0.967 and parameters: {'hidden_dim': 207, 'lr': 0.0006004112749943318, 'batch_size': 32}. Best is trial 0 with value: 0.967.\n",
            "[I 2024-04-18 16:50:14,714] Trial 22 finished with value: 0.9635 and parameters: {'hidden_dim': 251, 'lr': 0.0005722031096148147, 'batch_size': 32}. Best is trial 0 with value: 0.967.\n",
            "[I 2024-04-18 16:50:18,121] Trial 23 finished with value: 0.9625 and parameters: {'hidden_dim': 210, 'lr': 0.0013384609161259072, 'batch_size': 32}. Best is trial 0 with value: 0.967.\n",
            "[I 2024-04-18 16:50:21,538] Trial 24 finished with value: 0.963 and parameters: {'hidden_dim': 148, 'lr': 0.0007485758225066483, 'batch_size': 32}. Best is trial 0 with value: 0.967.\n",
            "[I 2024-04-18 16:50:25,717] Trial 25 finished with value: 0.962 and parameters: {'hidden_dim': 190, 'lr': 0.0003874525770280618, 'batch_size': 32}. Best is trial 0 with value: 0.967.\n",
            "[I 2024-04-18 16:50:29,235] Trial 26 finished with value: 0.9705 and parameters: {'hidden_dim': 224, 'lr': 0.001193744259773048, 'batch_size': 32}. Best is trial 26 with value: 0.9705.\n",
            "[I 2024-04-18 16:50:32,693] Trial 27 finished with value: 0.9545 and parameters: {'hidden_dim': 230, 'lr': 0.00019183913927422116, 'batch_size': 32}. Best is trial 26 with value: 0.9705.\n",
            "[I 2024-04-18 16:50:34,863] Trial 28 finished with value: 0.9665 and parameters: {'hidden_dim': 210, 'lr': 0.000688743914122962, 'batch_size': 64}. Best is trial 26 with value: 0.9705.\n",
            "[I 2024-04-18 16:50:36,818] Trial 29 finished with value: 0.9665 and parameters: {'hidden_dim': 241, 'lr': 0.004915920831395827, 'batch_size': 128}. Best is trial 26 with value: 0.9705.\n",
            "[I 2024-04-18 16:50:38,914] Trial 30 finished with value: 0.954 and parameters: {'hidden_dim': 171, 'lr': 0.00039464260257421124, 'batch_size': 64}. Best is trial 26 with value: 0.9705.\n",
            "[I 2024-04-18 16:50:40,910] Trial 31 finished with value: 0.959 and parameters: {'hidden_dim': 209, 'lr': 0.0006855780432923754, 'batch_size': 64}. Best is trial 26 with value: 0.9705.\n",
            "[I 2024-04-18 16:50:42,961] Trial 32 finished with value: 0.966 and parameters: {'hidden_dim': 220, 'lr': 0.0009735836438640662, 'batch_size': 64}. Best is trial 26 with value: 0.9705.\n",
            "[I 2024-04-18 16:50:44,975] Trial 33 finished with value: 0.967 and parameters: {'hidden_dim': 199, 'lr': 0.0008413320218885391, 'batch_size': 64}. Best is trial 26 with value: 0.9705.\n",
            "[I 2024-04-18 16:50:47,054] Trial 34 finished with value: 0.9655 and parameters: {'hidden_dim': 194, 'lr': 0.001064180062260775, 'batch_size': 64}. Best is trial 26 with value: 0.9705.\n",
            "[I 2024-04-18 16:50:48,960] Trial 35 finished with value: 0.9645 and parameters: {'hidden_dim': 182, 'lr': 0.0016977595095872863, 'batch_size': 128}. Best is trial 26 with value: 0.9705.\n",
            "[I 2024-04-18 16:50:51,156] Trial 36 finished with value: 0.9595 and parameters: {'hidden_dim': 234, 'lr': 0.000850855742605911, 'batch_size': 64}. Best is trial 26 with value: 0.9705.\n",
            "[I 2024-04-18 16:50:52,432] Trial 37 finished with value: 0.9545 and parameters: {'hidden_dim': 161, 'lr': 0.0005126360811217425, 'batch_size': 128}. Best is trial 26 with value: 0.9705.\n",
            "[I 2024-04-18 16:50:55,808] Trial 38 finished with value: 0.959 and parameters: {'hidden_dim': 136, 'lr': 0.00028121535722347885, 'batch_size': 32}. Best is trial 26 with value: 0.9705.\n",
            "[I 2024-04-18 16:50:57,792] Trial 39 finished with value: 0.965 and parameters: {'hidden_dim': 203, 'lr': 0.0026319618679499493, 'batch_size': 64}. Best is trial 26 with value: 0.9705.\n",
            "[I 2024-04-18 16:51:01,980] Trial 40 finished with value: 0.9665 and parameters: {'hidden_dim': 243, 'lr': 0.0014690134432660275, 'batch_size': 32}. Best is trial 26 with value: 0.9705.\n",
            "[I 2024-04-18 16:51:04,003] Trial 41 finished with value: 0.9635 and parameters: {'hidden_dim': 220, 'lr': 0.0006828506665826064, 'batch_size': 64}. Best is trial 26 with value: 0.9705.\n",
            "[I 2024-04-18 16:51:06,112] Trial 42 finished with value: 0.962 and parameters: {'hidden_dim': 221, 'lr': 0.0010893349066866613, 'batch_size': 64}. Best is trial 26 with value: 0.9705.\n",
            "[I 2024-04-18 16:51:08,193] Trial 43 finished with value: 0.9585 and parameters: {'hidden_dim': 178, 'lr': 0.0004182982156476894, 'batch_size': 64}. Best is trial 26 with value: 0.9705.\n",
            "[I 2024-04-18 16:51:10,187] Trial 44 finished with value: 0.9635 and parameters: {'hidden_dim': 198, 'lr': 0.0008242841752183524, 'batch_size': 64}. Best is trial 26 with value: 0.9705.\n",
            "[I 2024-04-18 16:51:12,463] Trial 45 finished with value: 0.9625 and parameters: {'hidden_dim': 186, 'lr': 0.000639045627914713, 'batch_size': 64}. Best is trial 26 with value: 0.9705.\n",
            "[I 2024-04-18 16:51:15,119] Trial 46 finished with value: 0.96 and parameters: {'hidden_dim': 215, 'lr': 0.0004704407249887742, 'batch_size': 64}. Best is trial 26 with value: 0.9705.\n",
            "[I 2024-04-18 16:51:18,642] Trial 47 finished with value: 0.9555 and parameters: {'hidden_dim': 233, 'lr': 0.00016413830732444866, 'batch_size': 32}. Best is trial 26 with value: 0.9705.\n",
            "[I 2024-04-18 16:51:22,118] Trial 48 finished with value: 0.9645 and parameters: {'hidden_dim': 202, 'lr': 0.009962135446314907, 'batch_size': 32}. Best is trial 26 with value: 0.9705.\n",
            "[I 2024-04-18 16:51:23,416] Trial 49 finished with value: 0.9455 and parameters: {'hidden_dim': 226, 'lr': 0.00029487501729599086, 'batch_size': 128}. Best is trial 26 with value: 0.9705.\n"
          ]
        },
        {
          "output_type": "stream",
          "name": "stdout",
          "text": [
            "CPU times: user 2min 18s, sys: 1.56 s, total: 2min 20s\n",
            "Wall time: 2min 21s\n"
          ]
        }
      ]
    },
    {
      "cell_type": "code",
      "source": [
        "best_params = study.best_params\n",
        "print(\"Best Parameters:\", best_params)\n",
        "\n",
        "best_hidden_dim = best_params['hidden_dim']\n",
        "best_lr = best_params['lr']\n",
        "best_batch_size = best_params['batch_size']\n",
        "\n",
        "best_model = NeuralNetwork(input_dim=n_features, hidden_dim=best_hidden_dim, output_dim=2)\n",
        "best_optimizer = optim.Adam(best_model.parameters(), lr=best_lr)\n",
        "best_criterion = nn.CrossEntropyLoss()"
      ],
      "metadata": {
        "colab": {
          "base_uri": "https://localhost:8080/"
        },
        "id": "3z9GQb5iJAA6",
        "outputId": "d04aad8e-481b-47bc-ebff-03e8176116f9"
      },
      "execution_count": null,
      "outputs": [
        {
          "output_type": "stream",
          "name": "stdout",
          "text": [
            "Best Parameters: {'hidden_dim': 224, 'lr': 0.001193744259773048, 'batch_size': 32}\n"
          ]
        }
      ]
    },
    {
      "cell_type": "code",
      "source": [
        "train_dataset = TensorDataset(X_train, y_train)\n",
        "train_loader = DataLoader(train_dataset, batch_size=best_batch_size, shuffle=True)"
      ],
      "metadata": {
        "id": "ck2ms5jvJCHU"
      },
      "execution_count": null,
      "outputs": []
    },
    {
      "cell_type": "code",
      "source": [
        "num_epochs = 50\n",
        "for epoch in range(num_epochs):\n",
        "    best_model.train()\n",
        "    for batch_X, batch_y in train_loader:\n",
        "        best_optimizer.zero_grad()\n",
        "        output = best_model(batch_X)\n",
        "        loss = best_criterion(output, batch_y)\n",
        "        loss.backward()\n",
        "        best_optimizer.step()"
      ],
      "metadata": {
        "id": "emVfqbpzJCKB"
      },
      "execution_count": null,
      "outputs": []
    },
    {
      "cell_type": "code",
      "source": [
        "best_model.eval()\n",
        "with torch.no_grad():\n",
        "    y_pred = best_model(X_test)\n",
        "    _, predicted = torch.max(y_pred, 1)\n",
        "    final_accuracy = (predicted == y_test).sum().item() / len(y_test)\n",
        "\n",
        "print(\"Final Test Accuracy:\", final_accuracy)"
      ],
      "metadata": {
        "colab": {
          "base_uri": "https://localhost:8080/"
        },
        "id": "LelebXxRJCMn",
        "outputId": "38a79a4b-7e64-4676-875f-9d7e6d7bea5d"
      },
      "execution_count": null,
      "outputs": [
        {
          "output_type": "stream",
          "name": "stdout",
          "text": [
            "Final Test Accuracy: 0.9665\n"
          ]
        }
      ]
    },
    {
      "cell_type": "code",
      "source": [
        "#bayesian"
      ],
      "metadata": {
        "id": "e7-xpx_ZJCQH"
      },
      "execution_count": null,
      "outputs": []
    },
    {
      "cell_type": "code",
      "source": [
        "%%time\n",
        "study_bay = optuna.create_study(direction='maximize', sampler=optuna.samplers.TPESampler())\n",
        "study_bay.optimize(objective, n_trials=50)"
      ],
      "metadata": {
        "colab": {
          "base_uri": "https://localhost:8080/"
        },
        "id": "7Wz1gEx9GjGh",
        "outputId": "93235767-34d5-4106-cd0f-83f65997de03"
      },
      "execution_count": null,
      "outputs": [
        {
          "output_type": "stream",
          "name": "stderr",
          "text": [
            "[I 2024-04-18 16:52:30,977] A new study created in memory with name: no-name-18eb9e66-fa7f-44d3-a476-6c1dae77f448\n",
            "<ipython-input-31-bb6daa89334a>:4: FutureWarning: suggest_loguniform has been deprecated in v3.0.0. This feature will be removed in v6.0.0. See https://github.com/optuna/optuna/releases/tag/v3.0.0. Use suggest_float(..., log=True) instead.\n",
            "  lr = trial.suggest_loguniform('lr', 1e-4, 1e-2)\n",
            "[I 2024-04-18 16:52:34,849] Trial 0 finished with value: 0.96 and parameters: {'hidden_dim': 159, 'lr': 0.002064908851864655, 'batch_size': 32}. Best is trial 0 with value: 0.96.\n",
            "[I 2024-04-18 16:52:38,519] Trial 1 finished with value: 0.9645 and parameters: {'hidden_dim': 33, 'lr': 0.003911060783597867, 'batch_size': 32}. Best is trial 1 with value: 0.9645.\n",
            "[I 2024-04-18 16:52:41,851] Trial 2 finished with value: 0.966 and parameters: {'hidden_dim': 37, 'lr': 0.0023943885232297762, 'batch_size': 32}. Best is trial 2 with value: 0.966.\n",
            "[I 2024-04-18 16:52:45,283] Trial 3 finished with value: 0.9645 and parameters: {'hidden_dim': 51, 'lr': 0.0030933498339749425, 'batch_size': 32}. Best is trial 2 with value: 0.966.\n",
            "[I 2024-04-18 16:52:49,438] Trial 4 finished with value: 0.9635 and parameters: {'hidden_dim': 197, 'lr': 0.000626793938613106, 'batch_size': 32}. Best is trial 2 with value: 0.966.\n",
            "[I 2024-04-18 16:52:52,926] Trial 5 finished with value: 0.9675 and parameters: {'hidden_dim': 225, 'lr': 0.0016146883932837122, 'batch_size': 32}. Best is trial 5 with value: 0.9675.\n",
            "[I 2024-04-18 16:52:56,365] Trial 6 finished with value: 0.9675 and parameters: {'hidden_dim': 98, 'lr': 0.0013311328598460336, 'batch_size': 32}. Best is trial 5 with value: 0.9675.\n",
            "[I 2024-04-18 16:52:57,669] Trial 7 finished with value: 0.9715 and parameters: {'hidden_dim': 220, 'lr': 0.004848470753441942, 'batch_size': 128}. Best is trial 7 with value: 0.9715.\n",
            "[I 2024-04-18 16:52:59,211] Trial 8 finished with value: 0.962 and parameters: {'hidden_dim': 164, 'lr': 0.003766365724853553, 'batch_size': 128}. Best is trial 7 with value: 0.9715.\n",
            "[I 2024-04-18 16:53:01,697] Trial 9 finished with value: 0.9605 and parameters: {'hidden_dim': 196, 'lr': 0.0004720830595720866, 'batch_size': 64}. Best is trial 7 with value: 0.9715.\n",
            "[I 2024-04-18 16:53:03,017] Trial 10 finished with value: 0.9255 and parameters: {'hidden_dim': 249, 'lr': 0.00012018937087675297, 'batch_size': 128}. Best is trial 7 with value: 0.9715.\n",
            "[I 2024-04-18 16:53:04,390] Trial 11 finished with value: 0.954 and parameters: {'hidden_dim': 255, 'lr': 0.007494026594218969, 'batch_size': 128}. Best is trial 7 with value: 0.9715.\n",
            "[I 2024-04-18 16:53:06,407] Trial 12 finished with value: 0.9615 and parameters: {'hidden_dim': 208, 'lr': 0.0008861795134039839, 'batch_size': 64}. Best is trial 7 with value: 0.9715.\n",
            "[I 2024-04-18 16:53:07,701] Trial 13 finished with value: 0.9605 and parameters: {'hidden_dim': 221, 'lr': 0.008352849455751156, 'batch_size': 128}. Best is trial 7 with value: 0.9715.\n",
            "[I 2024-04-18 16:53:08,955] Trial 14 finished with value: 0.9145 and parameters: {'hidden_dim': 112, 'lr': 0.00019855525253728598, 'batch_size': 128}. Best is trial 7 with value: 0.9715.\n",
            "[I 2024-04-18 16:53:11,128] Trial 15 finished with value: 0.963 and parameters: {'hidden_dim': 228, 'lr': 0.005706616754505555, 'batch_size': 64}. Best is trial 7 with value: 0.9715.\n",
            "[I 2024-04-18 16:53:13,056] Trial 16 finished with value: 0.9655 and parameters: {'hidden_dim': 182, 'lr': 0.001449958034236717, 'batch_size': 128}. Best is trial 7 with value: 0.9715.\n",
            "[I 2024-04-18 16:53:16,514] Trial 17 finished with value: 0.959 and parameters: {'hidden_dim': 126, 'lr': 0.0003633339902977839, 'batch_size': 32}. Best is trial 7 with value: 0.9715.\n",
            "[I 2024-04-18 16:53:17,828] Trial 18 finished with value: 0.9575 and parameters: {'hidden_dim': 231, 'lr': 0.00520220296997729, 'batch_size': 128}. Best is trial 7 with value: 0.9715.\n",
            "[I 2024-04-18 16:53:19,866] Trial 19 finished with value: 0.9665 and parameters: {'hidden_dim': 171, 'lr': 0.001609848472243011, 'batch_size': 64}. Best is trial 7 with value: 0.9715.\n",
            "[I 2024-04-18 16:53:21,117] Trial 20 finished with value: 0.9665 and parameters: {'hidden_dim': 137, 'lr': 0.009962472611052913, 'batch_size': 128}. Best is trial 7 with value: 0.9715.\n",
            "[I 2024-04-18 16:53:24,982] Trial 21 finished with value: 0.966 and parameters: {'hidden_dim': 85, 'lr': 0.0009851682153952694, 'batch_size': 32}. Best is trial 7 with value: 0.9715.\n",
            "[I 2024-04-18 16:53:28,583] Trial 22 finished with value: 0.966 and parameters: {'hidden_dim': 98, 'lr': 0.0012160086446064704, 'batch_size': 32}. Best is trial 7 with value: 0.9715.\n",
            "[I 2024-04-18 16:53:31,896] Trial 23 finished with value: 0.9605 and parameters: {'hidden_dim': 96, 'lr': 0.0023078002393182124, 'batch_size': 32}. Best is trial 7 with value: 0.9715.\n",
            "[I 2024-04-18 16:53:35,326] Trial 24 finished with value: 0.9595 and parameters: {'hidden_dim': 147, 'lr': 0.0007062734278391481, 'batch_size': 32}. Best is trial 7 with value: 0.9715.\n",
            "[I 2024-04-18 16:53:39,396] Trial 25 finished with value: 0.957 and parameters: {'hidden_dim': 75, 'lr': 0.0003598313960985954, 'batch_size': 32}. Best is trial 7 with value: 0.9715.\n",
            "[I 2024-04-18 16:53:42,691] Trial 26 finished with value: 0.966 and parameters: {'hidden_dim': 60, 'lr': 0.001864937221014319, 'batch_size': 32}. Best is trial 7 with value: 0.9715.\n",
            "[I 2024-04-18 16:53:46,215] Trial 27 finished with value: 0.971 and parameters: {'hidden_dim': 236, 'lr': 0.003086156591005594, 'batch_size': 32}. Best is trial 7 with value: 0.9715.\n",
            "[I 2024-04-18 16:53:48,317] Trial 28 finished with value: 0.956 and parameters: {'hidden_dim': 240, 'lr': 0.005221279746914033, 'batch_size': 64}. Best is trial 7 with value: 0.9715.\n",
            "[I 2024-04-18 16:53:50,275] Trial 29 finished with value: 0.965 and parameters: {'hidden_dim': 211, 'lr': 0.0028567834000578552, 'batch_size': 128}. Best is trial 7 with value: 0.9715.\n",
            "[I 2024-04-18 16:53:53,761] Trial 30 finished with value: 0.96 and parameters: {'hidden_dim': 183, 'lr': 0.0040214147643855514, 'batch_size': 32}. Best is trial 7 with value: 0.9715.\n",
            "[I 2024-04-18 16:53:57,205] Trial 31 finished with value: 0.961 and parameters: {'hidden_dim': 241, 'lr': 0.0020025597515666437, 'batch_size': 32}. Best is trial 7 with value: 0.9715.\n",
            "[I 2024-04-18 16:54:00,679] Trial 32 finished with value: 0.97 and parameters: {'hidden_dim': 213, 'lr': 0.0014481087853227782, 'batch_size': 32}. Best is trial 7 with value: 0.9715.\n",
            "[I 2024-04-18 16:54:04,846] Trial 33 finished with value: 0.963 and parameters: {'hidden_dim': 215, 'lr': 0.003039690637140724, 'batch_size': 32}. Best is trial 7 with value: 0.9715.\n",
            "[I 2024-04-18 16:54:08,369] Trial 34 finished with value: 0.9615 and parameters: {'hidden_dim': 198, 'lr': 0.004002776901701401, 'batch_size': 32}. Best is trial 7 with value: 0.9715.\n",
            "[I 2024-04-18 16:54:12,528] Trial 35 finished with value: 0.9615 and parameters: {'hidden_dim': 234, 'lr': 0.002399741836126647, 'batch_size': 32}. Best is trial 7 with value: 0.9715.\n",
            "[I 2024-04-18 16:54:16,776] Trial 36 finished with value: 0.9645 and parameters: {'hidden_dim': 222, 'lr': 0.0010832246156733951, 'batch_size': 32}. Best is trial 7 with value: 0.9715.\n",
            "[I 2024-04-18 16:54:20,333] Trial 37 finished with value: 0.9655 and parameters: {'hidden_dim': 182, 'lr': 0.0016173308618763575, 'batch_size': 32}. Best is trial 7 with value: 0.9715.\n",
            "[I 2024-04-18 16:54:23,876] Trial 38 finished with value: 0.9685 and parameters: {'hidden_dim': 202, 'lr': 0.0007637971709992539, 'batch_size': 32}. Best is trial 7 with value: 0.9715.\n",
            "[I 2024-04-18 16:54:28,217] Trial 39 finished with value: 0.965 and parameters: {'hidden_dim': 202, 'lr': 0.0007192524687424274, 'batch_size': 32}. Best is trial 7 with value: 0.9715.\n",
            "[I 2024-04-18 16:54:30,174] Trial 40 finished with value: 0.952 and parameters: {'hidden_dim': 191, 'lr': 0.0005271727637011701, 'batch_size': 128}. Best is trial 7 with value: 0.9715.\n",
            "[I 2024-04-18 16:54:33,749] Trial 41 finished with value: 0.968 and parameters: {'hidden_dim': 247, 'lr': 0.0008560495206807231, 'batch_size': 32}. Best is trial 7 with value: 0.9715.\n",
            "[I 2024-04-18 16:54:37,264] Trial 42 finished with value: 0.965 and parameters: {'hidden_dim': 245, 'lr': 0.0009284645900341149, 'batch_size': 32}. Best is trial 7 with value: 0.9715.\n",
            "[I 2024-04-18 16:54:41,519] Trial 43 finished with value: 0.965 and parameters: {'hidden_dim': 254, 'lr': 0.0005217340294899985, 'batch_size': 32}. Best is trial 7 with value: 0.9715.\n",
            "[I 2024-04-18 16:54:44,971] Trial 44 finished with value: 0.963 and parameters: {'hidden_dim': 217, 'lr': 0.00037916743416767856, 'batch_size': 32}. Best is trial 7 with value: 0.9715.\n",
            "[I 2024-04-18 16:54:48,505] Trial 45 finished with value: 0.9555 and parameters: {'hidden_dim': 235, 'lr': 0.00027091817873978397, 'batch_size': 32}. Best is trial 7 with value: 0.9715.\n",
            "[I 2024-04-18 16:54:50,531] Trial 46 finished with value: 0.96 and parameters: {'hidden_dim': 207, 'lr': 0.0007522709251471361, 'batch_size': 64}. Best is trial 7 with value: 0.9715.\n",
            "[I 2024-04-18 16:54:52,372] Trial 47 finished with value: 0.967 and parameters: {'hidden_dim': 250, 'lr': 0.0012896732575452341, 'batch_size': 128}. Best is trial 7 with value: 0.9715.\n",
            "[I 2024-04-18 16:54:55,976] Trial 48 finished with value: 0.965 and parameters: {'hidden_dim': 227, 'lr': 0.006173032719960348, 'batch_size': 32}. Best is trial 7 with value: 0.9715.\n",
            "[I 2024-04-18 16:54:59,374] Trial 49 finished with value: 0.9655 and parameters: {'hidden_dim': 172, 'lr': 0.003600651072864507, 'batch_size': 32}. Best is trial 7 with value: 0.9715.\n"
          ]
        },
        {
          "output_type": "stream",
          "name": "stdout",
          "text": [
            "CPU times: user 2min 26s, sys: 1.43 s, total: 2min 27s\n",
            "Wall time: 2min 28s\n"
          ]
        }
      ]
    },
    {
      "cell_type": "code",
      "source": [
        "best_params_bay = study_bay.best_params\n",
        "print(\"Best Parameters:\", best_params_bay)\n",
        "\n",
        "best_hidden_dim_bay = best_params_bay['hidden_dim']\n",
        "best_lr_bay = best_params_bay['lr']\n",
        "best_batch_size_bay = best_params_bay['batch_size']\n",
        "\n",
        "best_model_bay = NeuralNetwork(input_dim=n_features, hidden_dim=best_hidden_dim_bay, output_dim=2)\n",
        "best_optimizer_bay = optim.Adam(best_model_bay.parameters(), lr=best_lr_bay)\n",
        "best_criterion_bay = nn.CrossEntropyLoss()"
      ],
      "metadata": {
        "colab": {
          "base_uri": "https://localhost:8080/"
        },
        "id": "Y9CfvBaSGjJJ",
        "outputId": "5ae4d587-ac75-4a07-9e30-39a0f7026007"
      },
      "execution_count": null,
      "outputs": [
        {
          "output_type": "stream",
          "name": "stdout",
          "text": [
            "Best Parameters: {'hidden_dim': 220, 'lr': 0.004848470753441942, 'batch_size': 128}\n"
          ]
        }
      ]
    },
    {
      "cell_type": "code",
      "source": [
        "train_loader_bay = DataLoader(train_dataset, batch_size=best_batch_size_bay, shuffle=True)"
      ],
      "metadata": {
        "id": "Z9rReJ_UGjL0"
      },
      "execution_count": null,
      "outputs": []
    },
    {
      "cell_type": "code",
      "source": [
        "num_epochs = 50\n",
        "for epoch in range(num_epochs):\n",
        "    best_model_bay.train()\n",
        "    for batch_X, batch_y in train_loader_bay:\n",
        "        best_optimizer_bay.zero_grad()\n",
        "        output_bay = best_model_bay(batch_X)\n",
        "        loss_bay = best_criterion_bay(output_bay, batch_y)\n",
        "        loss_bay.backward()\n",
        "        best_optimizer_bay.step()"
      ],
      "metadata": {
        "id": "NIOPm81BGjOG"
      },
      "execution_count": null,
      "outputs": []
    },
    {
      "cell_type": "code",
      "source": [
        "best_model_bay.eval()\n",
        "with torch.no_grad():\n",
        "    y_pred_bay = best_model_bay(X_test)\n",
        "    _, predicted_bay = torch.max(y_pred_bay, 1)\n",
        "    final_accuracy_bay = (predicted_bay == y_test).sum().item() / len(y_test)\n",
        "\n",
        "print(\"Final Test Accuracy:\", final_accuracy_bay)"
      ],
      "metadata": {
        "colab": {
          "base_uri": "https://localhost:8080/"
        },
        "id": "BeOPz1rEGjRO",
        "outputId": "e24ef510-c767-4c55-ae49-d22a98c3315b"
      },
      "execution_count": null,
      "outputs": [
        {
          "output_type": "stream",
          "name": "stdout",
          "text": [
            "Final Test Accuracy: 0.96\n"
          ]
        }
      ]
    }
  ]
}